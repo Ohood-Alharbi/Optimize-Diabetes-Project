{
 "cells": [
  {
   "cell_type": "markdown",
   "id": "b8e6cbf2",
   "metadata": {
    "id": "b8e6cbf2"
   },
   "source": [
    "# Import Libraries"
   ]
  },
  {
   "cell_type": "code",
   "execution_count": 1,
   "id": "f22c14a9",
   "metadata": {
    "id": "f22c14a9"
   },
   "outputs": [],
   "source": [
    "#Python libraries\n",
    "#Classic,data manipulation \n",
    "import numpy as np\n",
    "import pandas as pd\n",
    "# Plots\n",
    "import matplotlib.pyplot as plt\n",
    "import seaborn as sns\n",
    "import warnings\n",
    "warnings.filterwarnings(\"ignore\")\n",
    "pd.set_option(\"display.max_rows\",None)\n",
    "from sklearn import preprocessing \n",
    "from sklearn.metrics import precision_score, recall_score, precision_recall_curve,f1_score, fbeta_score,accuracy_score\n",
    "%matplotlib inline\n",
    "import seaborn as sns\n",
    "from sklearn.model_selection import KFold\n",
    "from sklearn.ensemble import StackingClassifier\n",
    "\n",
    "from imblearn.over_sampling import SMOTE\n",
    "from imblearn.over_sampling import RandomOverSampler\n",
    "from imblearn.under_sampling import RandomUnderSampler \n",
    "from sklearn.metrics import fbeta_score, make_scorer\n",
    "from sklearn.model_selection import cross_validate\n",
    "from sklearn.metrics import roc_curve\n",
    "from sklearn.metrics import plot_roc_curve\n",
    "from xgboost import XGBClassifier\n",
    "from xgboost import XGBRegressor\n",
    "# Dataprep\n",
    "# Modeling \n",
    "from sklearn.preprocessing import MinMaxScaler, StandardScaler\n",
    "from sklearn.model_selection import cross_val_score \n",
    "from sklearn.model_selection import GridSearchCV\n",
    "from sklearn.linear_model import LogisticRegression\n",
    "from sklearn.tree import DecisionTreeClassifier\n",
    "from sklearn.neighbors import KNeighborsClassifier\n",
    "from sklearn.ensemble import RandomForestClassifier,VotingClassifier,GradientBoostingClassifier\n",
    "from imblearn.combine import SMOTEENN #resampling\n",
    "from sklearn import datasets, linear_model, metrics\n",
    "from sklearn.metrics import accuracy_score, confusion_matrix, classification_report\n",
    "from sklearn.preprocessing import StandardScaler\n",
    "from sklearn.model_selection import train_test_split\n",
    "#Import pipeline to allow you to do multiple steps at once\n",
    "from imblearn.pipeline import Pipeline, make_pipeline"
   ]
  },
  {
   "cell_type": "markdown",
   "id": "e7e90c47",
   "metadata": {
    "id": "e7e90c47"
   },
   "source": [
    "# Load Dataset "
   ]
  },
  {
   "cell_type": "code",
   "execution_count": 2,
   "id": "f3c8684e",
   "metadata": {
    "id": "f3c8684e"
   },
   "outputs": [],
   "source": [
    "df= pd.read_csv('diabetes_012_health_indicators_BRFSS2015.csv')\n",
    "#../input/diabetes-health-indicators-dataset/diabetes_012_health_indicators_BRFSS2015.csv\n",
    "\n",
    "#diabetes_012_health_indicators_BRFSS2015.csv\n"
   ]
  },
  {
   "cell_type": "markdown",
   "id": "9a467133",
   "metadata": {
    "id": "9a467133"
   },
   "source": [
    "# Explore Dataset"
   ]
  },
  {
   "cell_type": "code",
   "execution_count": 3,
   "id": "ca08bfbe",
   "metadata": {
    "colab": {
     "base_uri": "https://localhost:8080/"
    },
    "id": "ca08bfbe",
    "outputId": "1408f008-d4fa-47d5-e807-5868749fc9f4"
   },
   "outputs": [
    {
     "name": "stdout",
     "output_type": "stream",
     "text": [
      "<class 'pandas.core.frame.DataFrame'>\n",
      "RangeIndex: 253680 entries, 0 to 253679\n",
      "Data columns (total 22 columns):\n",
      " #   Column                Non-Null Count   Dtype  \n",
      "---  ------                --------------   -----  \n",
      " 0   Diabetes_012          253680 non-null  float64\n",
      " 1   HighBP                253680 non-null  float64\n",
      " 2   HighChol              253680 non-null  float64\n",
      " 3   CholCheck             253680 non-null  float64\n",
      " 4   BMI                   253680 non-null  float64\n",
      " 5   Smoker                253680 non-null  float64\n",
      " 6   Stroke                253680 non-null  float64\n",
      " 7   HeartDiseaseorAttack  253680 non-null  float64\n",
      " 8   PhysActivity          253680 non-null  float64\n",
      " 9   Fruits                253680 non-null  float64\n",
      " 10  Veggies               253680 non-null  float64\n",
      " 11  HvyAlcoholConsump     253680 non-null  float64\n",
      " 12  AnyHealthcare         253680 non-null  float64\n",
      " 13  NoDocbcCost           253680 non-null  float64\n",
      " 14  GenHlth               253680 non-null  float64\n",
      " 15  MentHlth              253680 non-null  float64\n",
      " 16  PhysHlth              253680 non-null  float64\n",
      " 17  DiffWalk              253680 non-null  float64\n",
      " 18  Sex                   253680 non-null  float64\n",
      " 19  Age                   253680 non-null  float64\n",
      " 20  Education             253680 non-null  float64\n",
      " 21  Income                253680 non-null  float64\n",
      "dtypes: float64(22)\n",
      "memory usage: 42.6 MB\n"
     ]
    }
   ],
   "source": [
    "df.info()"
   ]
  },
  {
   "cell_type": "code",
   "execution_count": 4,
   "id": "4bec0217",
   "metadata": {
    "colab": {
     "base_uri": "https://localhost:8080/"
    },
    "id": "4bec0217",
    "outputId": "3a91b116-3367-40be-e9fe-705d88b6be8d"
   },
   "outputs": [
    {
     "data": {
      "text/plain": [
       "(253680, 22)"
      ]
     },
     "execution_count": 4,
     "metadata": {},
     "output_type": "execute_result"
    }
   ],
   "source": [
    "df.shape"
   ]
  },
  {
   "cell_type": "code",
   "execution_count": 5,
   "id": "2b791aa7",
   "metadata": {
    "colab": {
     "base_uri": "https://localhost:8080/",
     "height": 383
    },
    "id": "2b791aa7",
    "outputId": "57f02845-0890-450c-842f-00d01f48a238"
   },
   "outputs": [
    {
     "data": {
      "text/html": [
       "<div>\n",
       "<style scoped>\n",
       "    .dataframe tbody tr th:only-of-type {\n",
       "        vertical-align: middle;\n",
       "    }\n",
       "\n",
       "    .dataframe tbody tr th {\n",
       "        vertical-align: top;\n",
       "    }\n",
       "\n",
       "    .dataframe thead th {\n",
       "        text-align: right;\n",
       "    }\n",
       "</style>\n",
       "<table border=\"1\" class=\"dataframe\">\n",
       "  <thead>\n",
       "    <tr style=\"text-align: right;\">\n",
       "      <th></th>\n",
       "      <th>Diabetes_012</th>\n",
       "      <th>HighBP</th>\n",
       "      <th>HighChol</th>\n",
       "      <th>CholCheck</th>\n",
       "      <th>BMI</th>\n",
       "      <th>Smoker</th>\n",
       "      <th>Stroke</th>\n",
       "      <th>HeartDiseaseorAttack</th>\n",
       "      <th>PhysActivity</th>\n",
       "      <th>Fruits</th>\n",
       "      <th>...</th>\n",
       "      <th>AnyHealthcare</th>\n",
       "      <th>NoDocbcCost</th>\n",
       "      <th>GenHlth</th>\n",
       "      <th>MentHlth</th>\n",
       "      <th>PhysHlth</th>\n",
       "      <th>DiffWalk</th>\n",
       "      <th>Sex</th>\n",
       "      <th>Age</th>\n",
       "      <th>Education</th>\n",
       "      <th>Income</th>\n",
       "    </tr>\n",
       "  </thead>\n",
       "  <tbody>\n",
       "    <tr>\n",
       "      <th>58785</th>\n",
       "      <td>2.0</td>\n",
       "      <td>1.0</td>\n",
       "      <td>0.0</td>\n",
       "      <td>1.0</td>\n",
       "      <td>42.0</td>\n",
       "      <td>0.0</td>\n",
       "      <td>0.0</td>\n",
       "      <td>0.0</td>\n",
       "      <td>1.0</td>\n",
       "      <td>1.0</td>\n",
       "      <td>...</td>\n",
       "      <td>1.0</td>\n",
       "      <td>0.0</td>\n",
       "      <td>2.0</td>\n",
       "      <td>0.0</td>\n",
       "      <td>0.0</td>\n",
       "      <td>0.0</td>\n",
       "      <td>0.0</td>\n",
       "      <td>9.0</td>\n",
       "      <td>4.0</td>\n",
       "      <td>6.0</td>\n",
       "    </tr>\n",
       "    <tr>\n",
       "      <th>159186</th>\n",
       "      <td>0.0</td>\n",
       "      <td>0.0</td>\n",
       "      <td>1.0</td>\n",
       "      <td>1.0</td>\n",
       "      <td>41.0</td>\n",
       "      <td>0.0</td>\n",
       "      <td>0.0</td>\n",
       "      <td>0.0</td>\n",
       "      <td>1.0</td>\n",
       "      <td>1.0</td>\n",
       "      <td>...</td>\n",
       "      <td>1.0</td>\n",
       "      <td>0.0</td>\n",
       "      <td>3.0</td>\n",
       "      <td>0.0</td>\n",
       "      <td>4.0</td>\n",
       "      <td>0.0</td>\n",
       "      <td>0.0</td>\n",
       "      <td>5.0</td>\n",
       "      <td>5.0</td>\n",
       "      <td>7.0</td>\n",
       "    </tr>\n",
       "    <tr>\n",
       "      <th>70055</th>\n",
       "      <td>0.0</td>\n",
       "      <td>0.0</td>\n",
       "      <td>0.0</td>\n",
       "      <td>0.0</td>\n",
       "      <td>26.0</td>\n",
       "      <td>0.0</td>\n",
       "      <td>0.0</td>\n",
       "      <td>0.0</td>\n",
       "      <td>1.0</td>\n",
       "      <td>0.0</td>\n",
       "      <td>...</td>\n",
       "      <td>1.0</td>\n",
       "      <td>0.0</td>\n",
       "      <td>1.0</td>\n",
       "      <td>0.0</td>\n",
       "      <td>0.0</td>\n",
       "      <td>0.0</td>\n",
       "      <td>1.0</td>\n",
       "      <td>8.0</td>\n",
       "      <td>5.0</td>\n",
       "      <td>8.0</td>\n",
       "    </tr>\n",
       "    <tr>\n",
       "      <th>76189</th>\n",
       "      <td>0.0</td>\n",
       "      <td>0.0</td>\n",
       "      <td>0.0</td>\n",
       "      <td>1.0</td>\n",
       "      <td>35.0</td>\n",
       "      <td>0.0</td>\n",
       "      <td>0.0</td>\n",
       "      <td>0.0</td>\n",
       "      <td>0.0</td>\n",
       "      <td>0.0</td>\n",
       "      <td>...</td>\n",
       "      <td>1.0</td>\n",
       "      <td>0.0</td>\n",
       "      <td>2.0</td>\n",
       "      <td>0.0</td>\n",
       "      <td>0.0</td>\n",
       "      <td>0.0</td>\n",
       "      <td>0.0</td>\n",
       "      <td>7.0</td>\n",
       "      <td>4.0</td>\n",
       "      <td>6.0</td>\n",
       "    </tr>\n",
       "    <tr>\n",
       "      <th>193416</th>\n",
       "      <td>0.0</td>\n",
       "      <td>1.0</td>\n",
       "      <td>0.0</td>\n",
       "      <td>1.0</td>\n",
       "      <td>24.0</td>\n",
       "      <td>1.0</td>\n",
       "      <td>0.0</td>\n",
       "      <td>0.0</td>\n",
       "      <td>1.0</td>\n",
       "      <td>1.0</td>\n",
       "      <td>...</td>\n",
       "      <td>1.0</td>\n",
       "      <td>1.0</td>\n",
       "      <td>3.0</td>\n",
       "      <td>7.0</td>\n",
       "      <td>14.0</td>\n",
       "      <td>0.0</td>\n",
       "      <td>0.0</td>\n",
       "      <td>9.0</td>\n",
       "      <td>4.0</td>\n",
       "      <td>4.0</td>\n",
       "    </tr>\n",
       "    <tr>\n",
       "      <th>130608</th>\n",
       "      <td>0.0</td>\n",
       "      <td>0.0</td>\n",
       "      <td>1.0</td>\n",
       "      <td>1.0</td>\n",
       "      <td>31.0</td>\n",
       "      <td>1.0</td>\n",
       "      <td>0.0</td>\n",
       "      <td>0.0</td>\n",
       "      <td>0.0</td>\n",
       "      <td>0.0</td>\n",
       "      <td>...</td>\n",
       "      <td>1.0</td>\n",
       "      <td>0.0</td>\n",
       "      <td>1.0</td>\n",
       "      <td>0.0</td>\n",
       "      <td>0.0</td>\n",
       "      <td>0.0</td>\n",
       "      <td>1.0</td>\n",
       "      <td>9.0</td>\n",
       "      <td>4.0</td>\n",
       "      <td>6.0</td>\n",
       "    </tr>\n",
       "    <tr>\n",
       "      <th>155384</th>\n",
       "      <td>2.0</td>\n",
       "      <td>0.0</td>\n",
       "      <td>0.0</td>\n",
       "      <td>1.0</td>\n",
       "      <td>34.0</td>\n",
       "      <td>1.0</td>\n",
       "      <td>0.0</td>\n",
       "      <td>0.0</td>\n",
       "      <td>0.0</td>\n",
       "      <td>0.0</td>\n",
       "      <td>...</td>\n",
       "      <td>1.0</td>\n",
       "      <td>0.0</td>\n",
       "      <td>3.0</td>\n",
       "      <td>0.0</td>\n",
       "      <td>0.0</td>\n",
       "      <td>0.0</td>\n",
       "      <td>1.0</td>\n",
       "      <td>6.0</td>\n",
       "      <td>6.0</td>\n",
       "      <td>3.0</td>\n",
       "    </tr>\n",
       "    <tr>\n",
       "      <th>93940</th>\n",
       "      <td>0.0</td>\n",
       "      <td>1.0</td>\n",
       "      <td>0.0</td>\n",
       "      <td>1.0</td>\n",
       "      <td>23.0</td>\n",
       "      <td>1.0</td>\n",
       "      <td>0.0</td>\n",
       "      <td>0.0</td>\n",
       "      <td>1.0</td>\n",
       "      <td>1.0</td>\n",
       "      <td>...</td>\n",
       "      <td>1.0</td>\n",
       "      <td>0.0</td>\n",
       "      <td>1.0</td>\n",
       "      <td>0.0</td>\n",
       "      <td>7.0</td>\n",
       "      <td>0.0</td>\n",
       "      <td>0.0</td>\n",
       "      <td>10.0</td>\n",
       "      <td>4.0</td>\n",
       "      <td>2.0</td>\n",
       "    </tr>\n",
       "    <tr>\n",
       "      <th>229216</th>\n",
       "      <td>0.0</td>\n",
       "      <td>0.0</td>\n",
       "      <td>0.0</td>\n",
       "      <td>1.0</td>\n",
       "      <td>34.0</td>\n",
       "      <td>0.0</td>\n",
       "      <td>0.0</td>\n",
       "      <td>0.0</td>\n",
       "      <td>1.0</td>\n",
       "      <td>1.0</td>\n",
       "      <td>...</td>\n",
       "      <td>1.0</td>\n",
       "      <td>0.0</td>\n",
       "      <td>1.0</td>\n",
       "      <td>0.0</td>\n",
       "      <td>0.0</td>\n",
       "      <td>0.0</td>\n",
       "      <td>0.0</td>\n",
       "      <td>6.0</td>\n",
       "      <td>5.0</td>\n",
       "      <td>7.0</td>\n",
       "    </tr>\n",
       "    <tr>\n",
       "      <th>114679</th>\n",
       "      <td>0.0</td>\n",
       "      <td>1.0</td>\n",
       "      <td>1.0</td>\n",
       "      <td>1.0</td>\n",
       "      <td>29.0</td>\n",
       "      <td>0.0</td>\n",
       "      <td>0.0</td>\n",
       "      <td>0.0</td>\n",
       "      <td>0.0</td>\n",
       "      <td>1.0</td>\n",
       "      <td>...</td>\n",
       "      <td>1.0</td>\n",
       "      <td>0.0</td>\n",
       "      <td>3.0</td>\n",
       "      <td>0.0</td>\n",
       "      <td>0.0</td>\n",
       "      <td>0.0</td>\n",
       "      <td>0.0</td>\n",
       "      <td>13.0</td>\n",
       "      <td>4.0</td>\n",
       "      <td>7.0</td>\n",
       "    </tr>\n",
       "  </tbody>\n",
       "</table>\n",
       "<p>10 rows × 22 columns</p>\n",
       "</div>"
      ],
      "text/plain": [
       "        Diabetes_012  HighBP  HighChol  CholCheck   BMI  Smoker  Stroke  \\\n",
       "58785            2.0     1.0       0.0        1.0  42.0     0.0     0.0   \n",
       "159186           0.0     0.0       1.0        1.0  41.0     0.0     0.0   \n",
       "70055            0.0     0.0       0.0        0.0  26.0     0.0     0.0   \n",
       "76189            0.0     0.0       0.0        1.0  35.0     0.0     0.0   \n",
       "193416           0.0     1.0       0.0        1.0  24.0     1.0     0.0   \n",
       "130608           0.0     0.0       1.0        1.0  31.0     1.0     0.0   \n",
       "155384           2.0     0.0       0.0        1.0  34.0     1.0     0.0   \n",
       "93940            0.0     1.0       0.0        1.0  23.0     1.0     0.0   \n",
       "229216           0.0     0.0       0.0        1.0  34.0     0.0     0.0   \n",
       "114679           0.0     1.0       1.0        1.0  29.0     0.0     0.0   \n",
       "\n",
       "        HeartDiseaseorAttack  PhysActivity  Fruits  ...  AnyHealthcare  \\\n",
       "58785                    0.0           1.0     1.0  ...            1.0   \n",
       "159186                   0.0           1.0     1.0  ...            1.0   \n",
       "70055                    0.0           1.0     0.0  ...            1.0   \n",
       "76189                    0.0           0.0     0.0  ...            1.0   \n",
       "193416                   0.0           1.0     1.0  ...            1.0   \n",
       "130608                   0.0           0.0     0.0  ...            1.0   \n",
       "155384                   0.0           0.0     0.0  ...            1.0   \n",
       "93940                    0.0           1.0     1.0  ...            1.0   \n",
       "229216                   0.0           1.0     1.0  ...            1.0   \n",
       "114679                   0.0           0.0     1.0  ...            1.0   \n",
       "\n",
       "        NoDocbcCost  GenHlth  MentHlth  PhysHlth  DiffWalk  Sex   Age  \\\n",
       "58785           0.0      2.0       0.0       0.0       0.0  0.0   9.0   \n",
       "159186          0.0      3.0       0.0       4.0       0.0  0.0   5.0   \n",
       "70055           0.0      1.0       0.0       0.0       0.0  1.0   8.0   \n",
       "76189           0.0      2.0       0.0       0.0       0.0  0.0   7.0   \n",
       "193416          1.0      3.0       7.0      14.0       0.0  0.0   9.0   \n",
       "130608          0.0      1.0       0.0       0.0       0.0  1.0   9.0   \n",
       "155384          0.0      3.0       0.0       0.0       0.0  1.0   6.0   \n",
       "93940           0.0      1.0       0.0       7.0       0.0  0.0  10.0   \n",
       "229216          0.0      1.0       0.0       0.0       0.0  0.0   6.0   \n",
       "114679          0.0      3.0       0.0       0.0       0.0  0.0  13.0   \n",
       "\n",
       "        Education  Income  \n",
       "58785         4.0     6.0  \n",
       "159186        5.0     7.0  \n",
       "70055         5.0     8.0  \n",
       "76189         4.0     6.0  \n",
       "193416        4.0     4.0  \n",
       "130608        4.0     6.0  \n",
       "155384        6.0     3.0  \n",
       "93940         4.0     2.0  \n",
       "229216        5.0     7.0  \n",
       "114679        4.0     7.0  \n",
       "\n",
       "[10 rows x 22 columns]"
      ]
     },
     "execution_count": 5,
     "metadata": {},
     "output_type": "execute_result"
    }
   ],
   "source": [
    "df.sample(10)"
   ]
  },
  {
   "cell_type": "code",
   "execution_count": 6,
   "id": "7b6dbfc1",
   "metadata": {
    "colab": {
     "base_uri": "https://localhost:8080/"
    },
    "id": "7b6dbfc1",
    "outputId": "31fbe744-9ac7-4810-fa58-53916748a230"
   },
   "outputs": [
    {
     "data": {
      "text/plain": [
       "Index(['Diabetes_012', 'HighBP', 'HighChol', 'CholCheck', 'BMI', 'Smoker',\n",
       "       'Stroke', 'HeartDiseaseorAttack', 'PhysActivity', 'Fruits', 'Veggies',\n",
       "       'HvyAlcoholConsump', 'AnyHealthcare', 'NoDocbcCost', 'GenHlth',\n",
       "       'MentHlth', 'PhysHlth', 'DiffWalk', 'Sex', 'Age', 'Education',\n",
       "       'Income'],\n",
       "      dtype='object')"
      ]
     },
     "execution_count": 6,
     "metadata": {},
     "output_type": "execute_result"
    }
   ],
   "source": [
    "df.columns"
   ]
  },
  {
   "cell_type": "code",
   "execution_count": 7,
   "id": "d41af7c6",
   "metadata": {
    "colab": {
     "base_uri": "https://localhost:8080/",
     "height": 226
    },
    "id": "d41af7c6",
    "outputId": "27e04251-278e-4376-f9c6-39caa8c5cafe",
    "scrolled": false
   },
   "outputs": [
    {
     "data": {
      "text/html": [
       "<div>\n",
       "<style scoped>\n",
       "    .dataframe tbody tr th:only-of-type {\n",
       "        vertical-align: middle;\n",
       "    }\n",
       "\n",
       "    .dataframe tbody tr th {\n",
       "        vertical-align: top;\n",
       "    }\n",
       "\n",
       "    .dataframe thead th {\n",
       "        text-align: right;\n",
       "    }\n",
       "</style>\n",
       "<table border=\"1\" class=\"dataframe\">\n",
       "  <thead>\n",
       "    <tr style=\"text-align: right;\">\n",
       "      <th></th>\n",
       "      <th>Diabetes_Type</th>\n",
       "      <th>HighBP</th>\n",
       "      <th>HighChol</th>\n",
       "      <th>CholCheck</th>\n",
       "      <th>BMI</th>\n",
       "      <th>Smoker</th>\n",
       "      <th>Stroke</th>\n",
       "      <th>HeartDiseaseorAttack</th>\n",
       "      <th>PhysActivity</th>\n",
       "      <th>Fruits</th>\n",
       "      <th>...</th>\n",
       "      <th>AnyHealthcare</th>\n",
       "      <th>NoDocbcCost</th>\n",
       "      <th>GenHlth</th>\n",
       "      <th>MentHlth</th>\n",
       "      <th>PhysHlth</th>\n",
       "      <th>DiffWalk</th>\n",
       "      <th>Sex</th>\n",
       "      <th>Age</th>\n",
       "      <th>Education</th>\n",
       "      <th>Income</th>\n",
       "    </tr>\n",
       "  </thead>\n",
       "  <tbody>\n",
       "    <tr>\n",
       "      <th>0</th>\n",
       "      <td>0.0</td>\n",
       "      <td>1.0</td>\n",
       "      <td>1.0</td>\n",
       "      <td>1.0</td>\n",
       "      <td>40.0</td>\n",
       "      <td>1.0</td>\n",
       "      <td>0.0</td>\n",
       "      <td>0.0</td>\n",
       "      <td>0.0</td>\n",
       "      <td>0.0</td>\n",
       "      <td>...</td>\n",
       "      <td>1.0</td>\n",
       "      <td>0.0</td>\n",
       "      <td>5.0</td>\n",
       "      <td>18.0</td>\n",
       "      <td>15.0</td>\n",
       "      <td>1.0</td>\n",
       "      <td>0.0</td>\n",
       "      <td>9.0</td>\n",
       "      <td>4.0</td>\n",
       "      <td>3.0</td>\n",
       "    </tr>\n",
       "    <tr>\n",
       "      <th>1</th>\n",
       "      <td>0.0</td>\n",
       "      <td>0.0</td>\n",
       "      <td>0.0</td>\n",
       "      <td>0.0</td>\n",
       "      <td>25.0</td>\n",
       "      <td>1.0</td>\n",
       "      <td>0.0</td>\n",
       "      <td>0.0</td>\n",
       "      <td>1.0</td>\n",
       "      <td>0.0</td>\n",
       "      <td>...</td>\n",
       "      <td>0.0</td>\n",
       "      <td>1.0</td>\n",
       "      <td>3.0</td>\n",
       "      <td>0.0</td>\n",
       "      <td>0.0</td>\n",
       "      <td>0.0</td>\n",
       "      <td>0.0</td>\n",
       "      <td>7.0</td>\n",
       "      <td>6.0</td>\n",
       "      <td>1.0</td>\n",
       "    </tr>\n",
       "    <tr>\n",
       "      <th>2</th>\n",
       "      <td>0.0</td>\n",
       "      <td>1.0</td>\n",
       "      <td>1.0</td>\n",
       "      <td>1.0</td>\n",
       "      <td>28.0</td>\n",
       "      <td>0.0</td>\n",
       "      <td>0.0</td>\n",
       "      <td>0.0</td>\n",
       "      <td>0.0</td>\n",
       "      <td>1.0</td>\n",
       "      <td>...</td>\n",
       "      <td>1.0</td>\n",
       "      <td>1.0</td>\n",
       "      <td>5.0</td>\n",
       "      <td>30.0</td>\n",
       "      <td>30.0</td>\n",
       "      <td>1.0</td>\n",
       "      <td>0.0</td>\n",
       "      <td>9.0</td>\n",
       "      <td>4.0</td>\n",
       "      <td>8.0</td>\n",
       "    </tr>\n",
       "    <tr>\n",
       "      <th>3</th>\n",
       "      <td>0.0</td>\n",
       "      <td>1.0</td>\n",
       "      <td>0.0</td>\n",
       "      <td>1.0</td>\n",
       "      <td>27.0</td>\n",
       "      <td>0.0</td>\n",
       "      <td>0.0</td>\n",
       "      <td>0.0</td>\n",
       "      <td>1.0</td>\n",
       "      <td>1.0</td>\n",
       "      <td>...</td>\n",
       "      <td>1.0</td>\n",
       "      <td>0.0</td>\n",
       "      <td>2.0</td>\n",
       "      <td>0.0</td>\n",
       "      <td>0.0</td>\n",
       "      <td>0.0</td>\n",
       "      <td>0.0</td>\n",
       "      <td>11.0</td>\n",
       "      <td>3.0</td>\n",
       "      <td>6.0</td>\n",
       "    </tr>\n",
       "    <tr>\n",
       "      <th>4</th>\n",
       "      <td>0.0</td>\n",
       "      <td>1.0</td>\n",
       "      <td>1.0</td>\n",
       "      <td>1.0</td>\n",
       "      <td>24.0</td>\n",
       "      <td>0.0</td>\n",
       "      <td>0.0</td>\n",
       "      <td>0.0</td>\n",
       "      <td>1.0</td>\n",
       "      <td>1.0</td>\n",
       "      <td>...</td>\n",
       "      <td>1.0</td>\n",
       "      <td>0.0</td>\n",
       "      <td>2.0</td>\n",
       "      <td>3.0</td>\n",
       "      <td>0.0</td>\n",
       "      <td>0.0</td>\n",
       "      <td>0.0</td>\n",
       "      <td>11.0</td>\n",
       "      <td>5.0</td>\n",
       "      <td>4.0</td>\n",
       "    </tr>\n",
       "  </tbody>\n",
       "</table>\n",
       "<p>5 rows × 22 columns</p>\n",
       "</div>"
      ],
      "text/plain": [
       "   Diabetes_Type  HighBP  HighChol  CholCheck   BMI  Smoker  Stroke  \\\n",
       "0            0.0     1.0       1.0        1.0  40.0     1.0     0.0   \n",
       "1            0.0     0.0       0.0        0.0  25.0     1.0     0.0   \n",
       "2            0.0     1.0       1.0        1.0  28.0     0.0     0.0   \n",
       "3            0.0     1.0       0.0        1.0  27.0     0.0     0.0   \n",
       "4            0.0     1.0       1.0        1.0  24.0     0.0     0.0   \n",
       "\n",
       "   HeartDiseaseorAttack  PhysActivity  Fruits  ...  AnyHealthcare  \\\n",
       "0                   0.0           0.0     0.0  ...            1.0   \n",
       "1                   0.0           1.0     0.0  ...            0.0   \n",
       "2                   0.0           0.0     1.0  ...            1.0   \n",
       "3                   0.0           1.0     1.0  ...            1.0   \n",
       "4                   0.0           1.0     1.0  ...            1.0   \n",
       "\n",
       "   NoDocbcCost  GenHlth  MentHlth  PhysHlth  DiffWalk  Sex   Age  Education  \\\n",
       "0          0.0      5.0      18.0      15.0       1.0  0.0   9.0        4.0   \n",
       "1          1.0      3.0       0.0       0.0       0.0  0.0   7.0        6.0   \n",
       "2          1.0      5.0      30.0      30.0       1.0  0.0   9.0        4.0   \n",
       "3          0.0      2.0       0.0       0.0       0.0  0.0  11.0        3.0   \n",
       "4          0.0      2.0       3.0       0.0       0.0  0.0  11.0        5.0   \n",
       "\n",
       "   Income  \n",
       "0     3.0  \n",
       "1     1.0  \n",
       "2     8.0  \n",
       "3     6.0  \n",
       "4     4.0  \n",
       "\n",
       "[5 rows x 22 columns]"
      ]
     },
     "execution_count": 7,
     "metadata": {},
     "output_type": "execute_result"
    }
   ],
   "source": [
    "# to rename the some columns important of dataset\n",
    "df.rename(columns={'Diabetes_012': 'Diabetes_Type'}, inplace=True)\n",
    "df.head()"
   ]
  },
  {
   "cell_type": "markdown",
   "id": "8b5dbef2",
   "metadata": {
    "id": "8b5dbef2"
   },
   "source": [
    "# Cleaning Dataset"
   ]
  },
  {
   "cell_type": "code",
   "execution_count": 8,
   "id": "e314c7da",
   "metadata": {
    "colab": {
     "base_uri": "https://localhost:8080/"
    },
    "id": "e314c7da",
    "outputId": "e6d14b2c-4fd4-4265-9bce-ecf81ff03346",
    "scrolled": true
   },
   "outputs": [
    {
     "data": {
      "text/plain": [
       "Diabetes_Type           0\n",
       "HighBP                  0\n",
       "HighChol                0\n",
       "CholCheck               0\n",
       "BMI                     0\n",
       "Smoker                  0\n",
       "Stroke                  0\n",
       "HeartDiseaseorAttack    0\n",
       "PhysActivity            0\n",
       "Fruits                  0\n",
       "Veggies                 0\n",
       "HvyAlcoholConsump       0\n",
       "AnyHealthcare           0\n",
       "NoDocbcCost             0\n",
       "GenHlth                 0\n",
       "MentHlth                0\n",
       "PhysHlth                0\n",
       "DiffWalk                0\n",
       "Sex                     0\n",
       "Age                     0\n",
       "Education               0\n",
       "Income                  0\n",
       "dtype: int64"
      ]
     },
     "execution_count": 8,
     "metadata": {},
     "output_type": "execute_result"
    }
   ],
   "source": [
    "df.isna().sum() # No missing value"
   ]
  },
  {
   "cell_type": "code",
   "execution_count": 9,
   "id": "bc9e6f2f",
   "metadata": {
    "colab": {
     "base_uri": "https://localhost:8080/"
    },
    "id": "bc9e6f2f",
    "outputId": "d7af959a-acab-4af9-9499-c528862a50bf"
   },
   "outputs": [
    {
     "data": {
      "text/plain": [
       "array([40., 25., 28., 27., 24., 30., 34., 26., 33., 21., 23., 22., 38.,\n",
       "       32., 37., 31., 29., 20., 35., 45., 39., 19., 47., 18., 36., 43.,\n",
       "       55., 49., 42., 17., 16., 41., 44., 50., 59., 48., 52., 46., 54.,\n",
       "       57., 53., 14., 15., 51., 58., 63., 61., 56., 74., 62., 64., 66.,\n",
       "       73., 85., 60., 67., 65., 70., 82., 79., 92., 68., 72., 88., 96.,\n",
       "       13., 81., 71., 75., 12., 77., 69., 76., 87., 89., 84., 95., 98.,\n",
       "       91., 86., 83., 80., 90., 78.])"
      ]
     },
     "execution_count": 9,
     "metadata": {},
     "output_type": "execute_result"
    }
   ],
   "source": [
    "df.BMI.unique()"
   ]
  },
  {
   "cell_type": "markdown",
   "id": "99017ddb",
   "metadata": {
    "id": "99017ddb"
   },
   "source": [
    "Would you say that in general your health is:scale 1-5:\n",
    "> 1 = excellent \n",
    "\n",
    "> 2 = very good \n",
    "\n",
    "> 3 = good \n",
    "\n",
    "> 4 = fair \n",
    "\n",
    "> 5 = poor\n"
   ]
  },
  {
   "cell_type": "code",
   "execution_count": 10,
   "id": "b1b8d512",
   "metadata": {
    "colab": {
     "base_uri": "https://localhost:8080/"
    },
    "id": "b1b8d512",
    "outputId": "b8f7b715-b670-426e-cb14-f5cdddd12141"
   },
   "outputs": [
    {
     "data": {
      "text/plain": [
       "array([5., 3., 2., 4., 1.])"
      ]
     },
     "execution_count": 10,
     "metadata": {},
     "output_type": "execute_result"
    }
   ],
   "source": [
    "df.GenHlth.unique()"
   ]
  },
  {
   "cell_type": "markdown",
   "id": "6fc5df4e",
   "metadata": {
    "id": "6fc5df4e"
   },
   "source": [
    "Mental health scale:\n",
    "\n",
    "> scale 1-30 days ."
   ]
  },
  {
   "cell_type": "code",
   "execution_count": 11,
   "id": "3e523bf2",
   "metadata": {
    "colab": {
     "base_uri": "https://localhost:8080/"
    },
    "id": "3e523bf2",
    "outputId": "7e9e29bf-3ebe-4279-80c6-8183cfe6dcdf"
   },
   "outputs": [
    {
     "data": {
      "text/plain": [
       "array([18.,  0., 30.,  3.,  5., 15., 10.,  6., 20.,  2., 25.,  1.,  4.,\n",
       "        7.,  8., 21., 14., 26., 29., 16., 28., 11., 12., 24., 17., 13.,\n",
       "       27., 19., 22.,  9., 23.])"
      ]
     },
     "execution_count": 11,
     "metadata": {},
     "output_type": "execute_result"
    }
   ],
   "source": [
    "df.MentHlth.unique()"
   ]
  },
  {
   "cell_type": "markdown",
   "id": "cd4dec9d",
   "metadata": {
    "id": "cd4dec9d"
   },
   "source": [
    "Now thinking about your physical health, for how many days during the past 30 days \n",
    "was your physical health not good?\n",
    "\n",
    "> scale 1-30 days "
   ]
  },
  {
   "cell_type": "code",
   "execution_count": 12,
   "id": "721bf946",
   "metadata": {
    "colab": {
     "base_uri": "https://localhost:8080/"
    },
    "id": "721bf946",
    "outputId": "889f7fd9-738f-4837-ba66-eb30d7178732"
   },
   "outputs": [
    {
     "data": {
      "text/plain": [
       "array([15.,  0., 30.,  2., 14., 28.,  7., 20.,  3., 10.,  1.,  5., 17.,\n",
       "        4., 19.,  6., 12., 25., 27., 21., 22.,  8., 29., 24.,  9., 16.,\n",
       "       18., 23., 13., 26., 11.])"
      ]
     },
     "execution_count": 12,
     "metadata": {},
     "output_type": "execute_result"
    }
   ],
   "source": [
    "df.PhysHlth.unique()"
   ]
  },
  {
   "cell_type": "markdown",
   "id": "c5b1d726",
   "metadata": {
    "id": "c5b1d726"
   },
   "source": [
    "13-level age categorys:(_AGEG5YR see codebook)\n",
    "> 1 = 18-24 \n",
    "\n",
    "> 9 = 60-64 \n",
    "\n",
    "> 13 = 80 or older \n"
   ]
  },
  {
   "cell_type": "code",
   "execution_count": 13,
   "id": "5ec8e038",
   "metadata": {
    "colab": {
     "base_uri": "https://localhost:8080/"
    },
    "id": "5ec8e038",
    "outputId": "ea088417-eaef-4dca-b599-8224147013ec"
   },
   "outputs": [
    {
     "data": {
      "text/plain": [
       "array([ 9.,  7., 11., 10.,  8., 13.,  4.,  6.,  2., 12.,  5.,  1.,  3.])"
      ]
     },
     "execution_count": 13,
     "metadata": {},
     "output_type": "execute_result"
    }
   ],
   "source": [
    "df.Age.unique()"
   ]
  },
  {
   "cell_type": "markdown",
   "id": "31459d38",
   "metadata": {
    "id": "31459d38"
   },
   "source": [
    "Education level (EDUCA see codebook) scale 1-6:\n",
    "> 1 = Never attended school or only kindergarten \n",
    "\n",
    "> 2 = Grades 1 through 8 (Elementary)\n",
    "\n",
    "> 3 = Grades 9 throug 11 (Some high school)\n",
    "\n",
    "> 4 = Grade 12 or GED (High school graduate)\n",
    "\n",
    "> 5 = College 1 year to 3 years (Some college or technical school) \n",
    "\n",
    "> 6 = College 4 years or more (College graduate)"
   ]
  },
  {
   "cell_type": "code",
   "execution_count": 14,
   "id": "523d0acd",
   "metadata": {
    "colab": {
     "base_uri": "https://localhost:8080/"
    },
    "id": "523d0acd",
    "outputId": "2f731fd1-3f67-4f0c-905a-855f92f316ed"
   },
   "outputs": [
    {
     "data": {
      "text/plain": [
       "array([4., 6., 3., 5., 2., 1.])"
      ]
     },
     "execution_count": 14,
     "metadata": {},
     "output_type": "execute_result"
    }
   ],
   "source": [
    "df.Education.unique()"
   ]
  },
  {
   "cell_type": "markdown",
   "id": "eb00c4d3",
   "metadata": {
    "id": "eb00c4d3"
   },
   "source": [
    "Income scale 1-8:\n",
    "> 1 = less than $10,000 \n",
    "\n",
    "> 5 = less than $35,000 \n",
    "\n",
    "> 8 = $75,000 or more\n",
    "\n"
   ]
  },
  {
   "cell_type": "code",
   "execution_count": 15,
   "id": "877b3fa6",
   "metadata": {
    "colab": {
     "base_uri": "https://localhost:8080/"
    },
    "id": "877b3fa6",
    "outputId": "4d191975-ffa2-4620-8040-48ca3052ced7"
   },
   "outputs": [
    {
     "data": {
      "text/plain": [
       "array([3., 1., 8., 6., 4., 7., 2., 5.])"
      ]
     },
     "execution_count": 15,
     "metadata": {},
     "output_type": "execute_result"
    }
   ],
   "source": [
    "df.Income.unique()"
   ]
  },
  {
   "cell_type": "code",
   "execution_count": 16,
   "id": "6841ee38",
   "metadata": {
    "colab": {
     "base_uri": "https://localhost:8080/"
    },
    "id": "6841ee38",
    "outputId": "2eb509c4-3aa6-449b-eaaf-0c11853209ad"
   },
   "outputs": [
    {
     "data": {
      "text/plain": [
       "array([0., 2., 1.])"
      ]
     },
     "execution_count": 16,
     "metadata": {},
     "output_type": "execute_result"
    }
   ],
   "source": [
    "df.Diabetes_Type.unique()"
   ]
  },
  {
   "cell_type": "code",
   "execution_count": 17,
   "id": "2f6a3348",
   "metadata": {
    "colab": {
     "base_uri": "https://localhost:8080/"
    },
    "id": "2f6a3348",
    "outputId": "3f7461dc-7125-4be9-aa90-24f845068d32",
    "scrolled": false
   },
   "outputs": [
    {
     "data": {
      "text/plain": [
       "0.0    213703\n",
       "2.0     35346\n",
       "1.0      4631\n",
       "Name: Diabetes_Type, dtype: int64"
      ]
     },
     "execution_count": 17,
     "metadata": {},
     "output_type": "execute_result"
    }
   ],
   "source": [
    "Diabetes=df['Diabetes_Type']\n",
    "Diabetes.value_counts()"
   ]
  },
  {
   "cell_type": "code",
   "execution_count": 18,
   "id": "10de13c7",
   "metadata": {
    "id": "10de13c7"
   },
   "outputs": [],
   "source": [
    "df['Diabetes_Type'].replace({2.0: 1.0},inplace = True)"
   ]
  },
  {
   "cell_type": "markdown",
   "id": "d3243468",
   "metadata": {
    "id": "d3243468"
   },
   "source": [
    "# Preprocessing"
   ]
  },
  {
   "cell_type": "markdown",
   "id": "2fa9c209",
   "metadata": {
    "id": "2fa9c209"
   },
   "source": [
    "# Visualze the correlation "
   ]
  },
  {
   "cell_type": "code",
   "execution_count": 19,
   "id": "b5dec844",
   "metadata": {
    "colab": {
     "base_uri": "https://localhost:8080/",
     "height": 979
    },
    "id": "b5dec844",
    "outputId": "c8e369f5-4310-480d-9d2c-19f235ebcc4e"
   },
   "outputs": [
    {
     "data": {
      "image/png": "[encoded data removed]",
      "text/plain": [
       "<Figure size 1800x1080 with 2 Axes>"
      ]
     },
     "metadata": {
      "needs_background": "light"
     },
     "output_type": "display_data"
    }
   ],
   "source": [
    "corr = df.corr()\n",
    "fig, ax = plt.subplots(figsize=(25,15)) \n",
    "sns.heatmap(corr,annot=True, cmap = \"Blues\", linewidth = 0.30)\n",
    "plt.title(\"Correlation matrix of features\")\n",
    "plt.show()"
   ]
  },
  {
   "cell_type": "code",
   "execution_count": 20,
   "id": "3f7c6234",
   "metadata": {
    "id": "3f7c6234"
   },
   "outputs": [
    {
     "data": {
      "text/html": [
       "<div>\n",
       "<style scoped>\n",
       "    .dataframe tbody tr th:only-of-type {\n",
       "        vertical-align: middle;\n",
       "    }\n",
       "\n",
       "    .dataframe tbody tr th {\n",
       "        vertical-align: top;\n",
       "    }\n",
       "\n",
       "    .dataframe thead th {\n",
       "        text-align: right;\n",
       "    }\n",
       "</style>\n",
       "<table border=\"1\" class=\"dataframe\">\n",
       "  <thead>\n",
       "    <tr style=\"text-align: right;\">\n",
       "      <th></th>\n",
       "      <th>Diabetes_Type</th>\n",
       "      <th>HighBP</th>\n",
       "      <th>HighChol</th>\n",
       "      <th>CholCheck</th>\n",
       "      <th>BMI</th>\n",
       "      <th>Smoker</th>\n",
       "      <th>Stroke</th>\n",
       "      <th>HeartDiseaseorAttack</th>\n",
       "      <th>PhysActivity</th>\n",
       "      <th>Fruits</th>\n",
       "      <th>...</th>\n",
       "      <th>AnyHealthcare</th>\n",
       "      <th>NoDocbcCost</th>\n",
       "      <th>GenHlth</th>\n",
       "      <th>MentHlth</th>\n",
       "      <th>PhysHlth</th>\n",
       "      <th>DiffWalk</th>\n",
       "      <th>Sex</th>\n",
       "      <th>Age</th>\n",
       "      <th>Education</th>\n",
       "      <th>Income</th>\n",
       "    </tr>\n",
       "  </thead>\n",
       "  <tbody>\n",
       "    <tr>\n",
       "      <th>0</th>\n",
       "      <td>0</td>\n",
       "      <td>1</td>\n",
       "      <td>1</td>\n",
       "      <td>1</td>\n",
       "      <td>40</td>\n",
       "      <td>1</td>\n",
       "      <td>0</td>\n",
       "      <td>0</td>\n",
       "      <td>0</td>\n",
       "      <td>0</td>\n",
       "      <td>...</td>\n",
       "      <td>1</td>\n",
       "      <td>0</td>\n",
       "      <td>5</td>\n",
       "      <td>18</td>\n",
       "      <td>15</td>\n",
       "      <td>1</td>\n",
       "      <td>0</td>\n",
       "      <td>9</td>\n",
       "      <td>4</td>\n",
       "      <td>3</td>\n",
       "    </tr>\n",
       "    <tr>\n",
       "      <th>1</th>\n",
       "      <td>0</td>\n",
       "      <td>0</td>\n",
       "      <td>0</td>\n",
       "      <td>0</td>\n",
       "      <td>25</td>\n",
       "      <td>1</td>\n",
       "      <td>0</td>\n",
       "      <td>0</td>\n",
       "      <td>1</td>\n",
       "      <td>0</td>\n",
       "      <td>...</td>\n",
       "      <td>0</td>\n",
       "      <td>1</td>\n",
       "      <td>3</td>\n",
       "      <td>0</td>\n",
       "      <td>0</td>\n",
       "      <td>0</td>\n",
       "      <td>0</td>\n",
       "      <td>7</td>\n",
       "      <td>6</td>\n",
       "      <td>1</td>\n",
       "    </tr>\n",
       "    <tr>\n",
       "      <th>2</th>\n",
       "      <td>0</td>\n",
       "      <td>1</td>\n",
       "      <td>1</td>\n",
       "      <td>1</td>\n",
       "      <td>28</td>\n",
       "      <td>0</td>\n",
       "      <td>0</td>\n",
       "      <td>0</td>\n",
       "      <td>0</td>\n",
       "      <td>1</td>\n",
       "      <td>...</td>\n",
       "      <td>1</td>\n",
       "      <td>1</td>\n",
       "      <td>5</td>\n",
       "      <td>30</td>\n",
       "      <td>30</td>\n",
       "      <td>1</td>\n",
       "      <td>0</td>\n",
       "      <td>9</td>\n",
       "      <td>4</td>\n",
       "      <td>8</td>\n",
       "    </tr>\n",
       "    <tr>\n",
       "      <th>3</th>\n",
       "      <td>0</td>\n",
       "      <td>1</td>\n",
       "      <td>0</td>\n",
       "      <td>1</td>\n",
       "      <td>27</td>\n",
       "      <td>0</td>\n",
       "      <td>0</td>\n",
       "      <td>0</td>\n",
       "      <td>1</td>\n",
       "      <td>1</td>\n",
       "      <td>...</td>\n",
       "      <td>1</td>\n",
       "      <td>0</td>\n",
       "      <td>2</td>\n",
       "      <td>0</td>\n",
       "      <td>0</td>\n",
       "      <td>0</td>\n",
       "      <td>0</td>\n",
       "      <td>11</td>\n",
       "      <td>3</td>\n",
       "      <td>6</td>\n",
       "    </tr>\n",
       "    <tr>\n",
       "      <th>4</th>\n",
       "      <td>0</td>\n",
       "      <td>1</td>\n",
       "      <td>1</td>\n",
       "      <td>1</td>\n",
       "      <td>24</td>\n",
       "      <td>0</td>\n",
       "      <td>0</td>\n",
       "      <td>0</td>\n",
       "      <td>1</td>\n",
       "      <td>1</td>\n",
       "      <td>...</td>\n",
       "      <td>1</td>\n",
       "      <td>0</td>\n",
       "      <td>2</td>\n",
       "      <td>3</td>\n",
       "      <td>0</td>\n",
       "      <td>0</td>\n",
       "      <td>0</td>\n",
       "      <td>11</td>\n",
       "      <td>5</td>\n",
       "      <td>4</td>\n",
       "    </tr>\n",
       "  </tbody>\n",
       "</table>\n",
       "<p>5 rows × 22 columns</p>\n",
       "</div>"
      ],
      "text/plain": [
       "   Diabetes_Type  HighBP  HighChol  CholCheck  BMI  Smoker  Stroke  \\\n",
       "0              0       1         1          1   40       1       0   \n",
       "1              0       0         0          0   25       1       0   \n",
       "2              0       1         1          1   28       0       0   \n",
       "3              0       1         0          1   27       0       0   \n",
       "4              0       1         1          1   24       0       0   \n",
       "\n",
       "   HeartDiseaseorAttack  PhysActivity  Fruits  ...  AnyHealthcare  \\\n",
       "0                     0             0       0  ...              1   \n",
       "1                     0             1       0  ...              0   \n",
       "2                     0             0       1  ...              1   \n",
       "3                     0             1       1  ...              1   \n",
       "4                     0             1       1  ...              1   \n",
       "\n",
       "   NoDocbcCost  GenHlth  MentHlth  PhysHlth  DiffWalk  Sex  Age  Education  \\\n",
       "0            0        5        18        15         1    0    9          4   \n",
       "1            1        3         0         0         0    0    7          6   \n",
       "2            1        5        30        30         1    0    9          4   \n",
       "3            0        2         0         0         0    0   11          3   \n",
       "4            0        2         3         0         0    0   11          5   \n",
       "\n",
       "   Income  \n",
       "0       3  \n",
       "1       1  \n",
       "2       8  \n",
       "3       6  \n",
       "4       4  \n",
       "\n",
       "[5 rows x 22 columns]"
      ]
     },
     "execution_count": 20,
     "metadata": {},
     "output_type": "execute_result"
    }
   ],
   "source": [
    "df['Diabetes_Type'] = df['Diabetes_Type'].astype('int')\n",
    "df['HighBP'] = df['HighBP'].astype('int')\n",
    "df['HighChol'] = df['HighChol'].astype('int')\n",
    "df['CholCheck'] = df['CholCheck'].astype('int')\n",
    "df['BMI'] = df['BMI'].astype('int')\n",
    "df['Smoker'] = df['Smoker'].astype('int')\n",
    "df['Stroke'] = df['Stroke'].astype('int')\n",
    "df['HeartDiseaseorAttack'] = df['HeartDiseaseorAttack'].astype('int')\n",
    "df['PhysActivity'] = df['PhysActivity'].astype('int')\n",
    "df['Fruits'] = df['Fruits'].astype('int')\n",
    "df['Veggies'] = df['Veggies'].astype('int')\n",
    "df['HvyAlcoholConsump'] = df['HvyAlcoholConsump'].astype('int')\n",
    "df['AnyHealthcare'] = df['AnyHealthcare'].astype('int')\n",
    "df['NoDocbcCost'] = df['NoDocbcCost'].astype('int')\n",
    "df['GenHlth'] = df['GenHlth'].astype('int')\n",
    "df['MentHlth'] = df['MentHlth'].astype('int')\n",
    "df['PhysHlth'] = df['PhysHlth'].astype('int')\n",
    "df['DiffWalk'] = df['DiffWalk'].astype('int')\n",
    "df['Sex'] = df['Sex'].astype('int')\n",
    "df['Age'] = df['Age'].astype('int')\n",
    "df['Education'] = df['Education'].astype('int')\n",
    "df['Income'] = df['Income'].astype('int')\n",
    "df.head()"
   ]
  },
  {
   "cell_type": "code",
   "execution_count": 21,
   "id": "abd74f02",
   "metadata": {
    "id": "abd74f02"
   },
   "outputs": [],
   "source": [
    "df['Diabetes']=df['Diabetes_Type']"
   ]
  },
  {
   "cell_type": "code",
   "execution_count": 22,
   "id": "ef359390",
   "metadata": {
    "id": "ef359390"
   },
   "outputs": [],
   "source": [
    "df['Diabetes'] = df['Diabetes_Type'].map({0:'No Diabetes', 1:'Diabetes'})"
   ]
  },
  {
   "cell_type": "code",
   "execution_count": 23,
   "id": "cde922b3",
   "metadata": {
    "colab": {
     "base_uri": "https://localhost:8080/"
    },
    "id": "cde922b3",
    "outputId": "ee509554-d87b-4e0f-e211-a6ed8a6b42d4"
   },
   "outputs": [
    {
     "data": {
      "text/plain": [
       "0    213703\n",
       "1     39977\n",
       "Name: Diabetes_Type, dtype: int64"
      ]
     },
     "execution_count": 23,
     "metadata": {},
     "output_type": "execute_result"
    }
   ],
   "source": [
    "Diabetes=df['Diabetes_Type']\n",
    "Diabetes.value_counts()"
   ]
  },
  {
   "cell_type": "code",
   "execution_count": 24,
   "id": "023608a7",
   "metadata": {
    "colab": {
     "base_uri": "https://localhost:8080/"
    },
    "id": "023608a7",
    "outputId": "cd6bb5f5-686e-4b41-ff19-dfce2913d258"
   },
   "outputs": [
    {
     "name": "stdout",
     "output_type": "stream",
     "text": [
      "   Diabetes_Type  HighBP   Count\n",
      "0              0       0  134391\n",
      "1              0       1   79312\n",
      "2              1       0   10460\n",
      "3              1       1   29517\n"
     ]
    }
   ],
   "source": [
    "diabetes_bp = df.groupby(['Diabetes_Type', 'HighBP']).size().reset_index(name = 'Count')\n",
    "print(diabetes_bp)"
   ]
  },
  {
   "cell_type": "code",
   "execution_count": 25,
   "id": "f2061603",
   "metadata": {
    "colab": {
     "base_uri": "https://localhost:8080/"
    },
    "id": "f2061603",
    "outputId": "f8f5d04c-cfa9-4beb-9c2f-645ea609fb31"
   },
   "outputs": [
    {
     "data": {
      "text/plain": [
       "Index(['Diabetes_Type', 'HighBP', 'HighChol', 'CholCheck', 'BMI', 'Smoker',\n",
       "       'Stroke', 'HeartDiseaseorAttack', 'PhysActivity', 'Fruits', 'Veggies',\n",
       "       'HvyAlcoholConsump', 'AnyHealthcare', 'NoDocbcCost', 'GenHlth',\n",
       "       'MentHlth', 'PhysHlth', 'DiffWalk', 'Sex', 'Age', 'Education', 'Income',\n",
       "       'Diabetes'],\n",
       "      dtype='object')"
      ]
     },
     "execution_count": 25,
     "metadata": {},
     "output_type": "execute_result"
    }
   ],
   "source": [
    "df.columns\n"
   ]
  },
  {
   "cell_type": "code",
   "execution_count": 26,
   "id": "efda6c84",
   "metadata": {
    "id": "efda6c84"
   },
   "outputs": [],
   "source": [
    "df['GH']=df['GenHlth']"
   ]
  },
  {
   "cell_type": "code",
   "execution_count": 27,
   "id": "84b478dc",
   "metadata": {
    "id": "84b478dc"
   },
   "outputs": [],
   "source": [
    "df['GH'] = df['GH'].map({1:5, 2:4 ,3:3 ,4:2 , 5:1})"
   ]
  },
  {
   "cell_type": "code",
   "execution_count": 28,
   "id": "dc9b45b8",
   "metadata": {
    "colab": {
     "base_uri": "https://localhost:8080/",
     "height": 313
    },
    "id": "dc9b45b8",
    "outputId": "058f35f3-459d-41bf-eca4-514bf9948be6"
   },
   "outputs": [
    {
     "data": {
      "text/html": [
       "<div>\n",
       "<style scoped>\n",
       "    .dataframe tbody tr th:only-of-type {\n",
       "        vertical-align: middle;\n",
       "    }\n",
       "\n",
       "    .dataframe tbody tr th {\n",
       "        vertical-align: top;\n",
       "    }\n",
       "\n",
       "    .dataframe thead th {\n",
       "        text-align: right;\n",
       "    }\n",
       "</style>\n",
       "<table border=\"1\" class=\"dataframe\">\n",
       "  <thead>\n",
       "    <tr style=\"text-align: right;\">\n",
       "      <th></th>\n",
       "      <th>Diabetes_Type</th>\n",
       "      <th>HighBP</th>\n",
       "      <th>HighChol</th>\n",
       "      <th>CholCheck</th>\n",
       "      <th>BMI</th>\n",
       "      <th>Smoker</th>\n",
       "      <th>Stroke</th>\n",
       "      <th>HeartDiseaseorAttack</th>\n",
       "      <th>PhysActivity</th>\n",
       "      <th>Fruits</th>\n",
       "      <th>...</th>\n",
       "      <th>GenHlth</th>\n",
       "      <th>MentHlth</th>\n",
       "      <th>PhysHlth</th>\n",
       "      <th>DiffWalk</th>\n",
       "      <th>Sex</th>\n",
       "      <th>Age</th>\n",
       "      <th>Education</th>\n",
       "      <th>Income</th>\n",
       "      <th>Diabetes</th>\n",
       "      <th>GH</th>\n",
       "    </tr>\n",
       "  </thead>\n",
       "  <tbody>\n",
       "    <tr>\n",
       "      <th>0</th>\n",
       "      <td>0</td>\n",
       "      <td>1</td>\n",
       "      <td>1</td>\n",
       "      <td>1</td>\n",
       "      <td>40</td>\n",
       "      <td>1</td>\n",
       "      <td>0</td>\n",
       "      <td>0</td>\n",
       "      <td>0</td>\n",
       "      <td>0</td>\n",
       "      <td>...</td>\n",
       "      <td>5</td>\n",
       "      <td>18</td>\n",
       "      <td>15</td>\n",
       "      <td>1</td>\n",
       "      <td>0</td>\n",
       "      <td>9</td>\n",
       "      <td>4</td>\n",
       "      <td>3</td>\n",
       "      <td>No Diabetes</td>\n",
       "      <td>1</td>\n",
       "    </tr>\n",
       "    <tr>\n",
       "      <th>1</th>\n",
       "      <td>0</td>\n",
       "      <td>0</td>\n",
       "      <td>0</td>\n",
       "      <td>0</td>\n",
       "      <td>25</td>\n",
       "      <td>1</td>\n",
       "      <td>0</td>\n",
       "      <td>0</td>\n",
       "      <td>1</td>\n",
       "      <td>0</td>\n",
       "      <td>...</td>\n",
       "      <td>3</td>\n",
       "      <td>0</td>\n",
       "      <td>0</td>\n",
       "      <td>0</td>\n",
       "      <td>0</td>\n",
       "      <td>7</td>\n",
       "      <td>6</td>\n",
       "      <td>1</td>\n",
       "      <td>No Diabetes</td>\n",
       "      <td>3</td>\n",
       "    </tr>\n",
       "    <tr>\n",
       "      <th>2</th>\n",
       "      <td>0</td>\n",
       "      <td>1</td>\n",
       "      <td>1</td>\n",
       "      <td>1</td>\n",
       "      <td>28</td>\n",
       "      <td>0</td>\n",
       "      <td>0</td>\n",
       "      <td>0</td>\n",
       "      <td>0</td>\n",
       "      <td>1</td>\n",
       "      <td>...</td>\n",
       "      <td>5</td>\n",
       "      <td>30</td>\n",
       "      <td>30</td>\n",
       "      <td>1</td>\n",
       "      <td>0</td>\n",
       "      <td>9</td>\n",
       "      <td>4</td>\n",
       "      <td>8</td>\n",
       "      <td>No Diabetes</td>\n",
       "      <td>1</td>\n",
       "    </tr>\n",
       "    <tr>\n",
       "      <th>3</th>\n",
       "      <td>0</td>\n",
       "      <td>1</td>\n",
       "      <td>0</td>\n",
       "      <td>1</td>\n",
       "      <td>27</td>\n",
       "      <td>0</td>\n",
       "      <td>0</td>\n",
       "      <td>0</td>\n",
       "      <td>1</td>\n",
       "      <td>1</td>\n",
       "      <td>...</td>\n",
       "      <td>2</td>\n",
       "      <td>0</td>\n",
       "      <td>0</td>\n",
       "      <td>0</td>\n",
       "      <td>0</td>\n",
       "      <td>11</td>\n",
       "      <td>3</td>\n",
       "      <td>6</td>\n",
       "      <td>No Diabetes</td>\n",
       "      <td>4</td>\n",
       "    </tr>\n",
       "    <tr>\n",
       "      <th>4</th>\n",
       "      <td>0</td>\n",
       "      <td>1</td>\n",
       "      <td>1</td>\n",
       "      <td>1</td>\n",
       "      <td>24</td>\n",
       "      <td>0</td>\n",
       "      <td>0</td>\n",
       "      <td>0</td>\n",
       "      <td>1</td>\n",
       "      <td>1</td>\n",
       "      <td>...</td>\n",
       "      <td>2</td>\n",
       "      <td>3</td>\n",
       "      <td>0</td>\n",
       "      <td>0</td>\n",
       "      <td>0</td>\n",
       "      <td>11</td>\n",
       "      <td>5</td>\n",
       "      <td>4</td>\n",
       "      <td>No Diabetes</td>\n",
       "      <td>4</td>\n",
       "    </tr>\n",
       "  </tbody>\n",
       "</table>\n",
       "<p>5 rows × 24 columns</p>\n",
       "</div>"
      ],
      "text/plain": [
       "   Diabetes_Type  HighBP  HighChol  CholCheck  BMI  Smoker  Stroke  \\\n",
       "0              0       1         1          1   40       1       0   \n",
       "1              0       0         0          0   25       1       0   \n",
       "2              0       1         1          1   28       0       0   \n",
       "3              0       1         0          1   27       0       0   \n",
       "4              0       1         1          1   24       0       0   \n",
       "\n",
       "   HeartDiseaseorAttack  PhysActivity  Fruits  ...  GenHlth  MentHlth  \\\n",
       "0                     0             0       0  ...        5        18   \n",
       "1                     0             1       0  ...        3         0   \n",
       "2                     0             0       1  ...        5        30   \n",
       "3                     0             1       1  ...        2         0   \n",
       "4                     0             1       1  ...        2         3   \n",
       "\n",
       "   PhysHlth  DiffWalk  Sex  Age  Education  Income     Diabetes  GH  \n",
       "0        15         1    0    9          4       3  No Diabetes   1  \n",
       "1         0         0    0    7          6       1  No Diabetes   3  \n",
       "2        30         1    0    9          4       8  No Diabetes   1  \n",
       "3         0         0    0   11          3       6  No Diabetes   4  \n",
       "4         0         0    0   11          5       4  No Diabetes   4  \n",
       "\n",
       "[5 rows x 24 columns]"
      ]
     },
     "execution_count": 28,
     "metadata": {},
     "output_type": "execute_result"
    }
   ],
   "source": [
    "df.head()"
   ]
  },
  {
   "cell_type": "code",
   "execution_count": 29,
   "id": "n4BPRdXgTYDV",
   "metadata": {
    "colab": {
     "base_uri": "https://localhost:8080/"
    },
    "id": "n4BPRdXgTYDV",
    "outputId": "1157e1f8-462b-4dfb-a2e9-27ad480c4751"
   },
   "outputs": [
    {
     "data": {
      "text/plain": [
       "Diabetes_Type           0\n",
       "HighBP                  0\n",
       "HighChol                0\n",
       "CholCheck               0\n",
       "BMI                     0\n",
       "Smoker                  0\n",
       "Stroke                  0\n",
       "HeartDiseaseorAttack    0\n",
       "PhysActivity            0\n",
       "Fruits                  0\n",
       "Veggies                 0\n",
       "HvyAlcoholConsump       0\n",
       "AnyHealthcare           0\n",
       "NoDocbcCost             0\n",
       "GenHlth                 0\n",
       "MentHlth                0\n",
       "PhysHlth                0\n",
       "DiffWalk                0\n",
       "Sex                     0\n",
       "Age                     0\n",
       "Education               0\n",
       "Income                  0\n",
       "Diabetes                0\n",
       "GH                      0\n",
       "dtype: int64"
      ]
     },
     "execution_count": 29,
     "metadata": {},
     "output_type": "execute_result"
    }
   ],
   "source": [
    "df.isna().sum()"
   ]
  },
  {
   "cell_type": "markdown",
   "id": "46d1f1ea",
   "metadata": {
    "id": "46d1f1ea"
   },
   "source": [
    "# Build models"
   ]
  },
  {
   "cell_type": "markdown",
   "id": "1bbf0aa7",
   "metadata": {
    "id": "1bbf0aa7"
   },
   "source": [
    "# Experiment 1: Split data to training,validation and test set"
   ]
  },
  {
   "cell_type": "code",
   "execution_count": 30,
   "id": "1c607926",
   "metadata": {},
   "outputs": [
    {
     "data": {
      "text/plain": [
       "Index(['Diabetes_Type', 'HighBP', 'HighChol', 'CholCheck', 'BMI', 'Smoker',\n",
       "       'Stroke', 'HeartDiseaseorAttack', 'PhysActivity', 'Fruits', 'Veggies',\n",
       "       'HvyAlcoholConsump', 'AnyHealthcare', 'NoDocbcCost', 'GenHlth',\n",
       "       'MentHlth', 'PhysHlth', 'DiffWalk', 'Sex', 'Age', 'Education', 'Income',\n",
       "       'Diabetes', 'GH'],\n",
       "      dtype='object')"
      ]
     },
     "execution_count": 30,
     "metadata": {},
     "output_type": "execute_result"
    }
   ],
   "source": [
    "df.columns"
   ]
  },
  {
   "cell_type": "code",
   "execution_count": 31,
   "id": "af9fe737",
   "metadata": {
    "id": "af9fe737"
   },
   "outputs": [],
   "source": [
    "smaller_df=df.loc[:,['Diabetes_Type', 'HighBP', 'HighChol', 'CholCheck', 'BMI', 'Smoker',\n",
    "       'Stroke', 'HeartDiseaseorAttack', 'GenHlth',\n",
    "       'MentHlth', 'PhysHlth', 'DiffWalk', 'Age']]\n",
    "smaller_df1=df.loc[:,['Diabetes_Type', 'HighBP', 'HighChol', 'CholCheck', 'BMI', 'Smoker',\n",
    "       'Stroke', 'HeartDiseaseorAttack', 'GH',\n",
    "       'MentHlth', 'PhysHlth', 'DiffWalk', 'Age']]"
   ]
  },
  {
   "cell_type": "code",
   "execution_count": 32,
   "id": "af06907b",
   "metadata": {},
   "outputs": [
    {
     "data": {
      "image/png": "[encoded data removed]",
      "text/plain": [
       "<Figure size 1800x1080 with 2 Axes>"
      ]
     },
     "metadata": {
      "needs_background": "light"
     },
     "output_type": "display_data"
    }
   ],
   "source": [
    "corr = smaller_df.corr()\n",
    "fig, ax = plt.subplots(figsize=(25,15)) \n",
    "sns.heatmap(corr,annot=True, cmap = \"Blues\", linewidth = 0.30)\n",
    "plt.title(\"Correlation matrix of features\")\n",
    "plt.show()"
   ]
  },
  {
   "cell_type": "code",
   "execution_count": 33,
   "id": "f150eff2",
   "metadata": {},
   "outputs": [],
   "source": [
    "X,y = smaller_df.drop(['Diabetes_Type'],axis=1),smaller_df['Diabetes_Type']\n",
    "X1,y1 = smaller_df1.drop(['Diabetes_Type'],axis=1),smaller_df1['Diabetes_Type']\n"
   ]
  },
  {
   "cell_type": "markdown",
   "id": "4a2c6cb1",
   "metadata": {
    "id": "4a2c6cb1"
   },
   "source": [
    "## Scalling to give us fair distrubtion btw features"
   ]
  },
  {
   "cell_type": "code",
   "execution_count": 34,
   "id": "6b47a68b",
   "metadata": {
    "id": "6b47a68b"
   },
   "outputs": [
    {
     "data": {
      "text/html": [
       "<div>\n",
       "<style scoped>\n",
       "    .dataframe tbody tr th:only-of-type {\n",
       "        vertical-align: middle;\n",
       "    }\n",
       "\n",
       "    .dataframe tbody tr th {\n",
       "        vertical-align: top;\n",
       "    }\n",
       "\n",
       "    .dataframe thead th {\n",
       "        text-align: right;\n",
       "    }\n",
       "</style>\n",
       "<table border=\"1\" class=\"dataframe\">\n",
       "  <thead>\n",
       "    <tr style=\"text-align: right;\">\n",
       "      <th></th>\n",
       "      <th>HighBP</th>\n",
       "      <th>HighChol</th>\n",
       "      <th>CholCheck</th>\n",
       "      <th>BMI</th>\n",
       "      <th>Smoker</th>\n",
       "      <th>Stroke</th>\n",
       "      <th>HeartDiseaseorAttack</th>\n",
       "      <th>GenHlth</th>\n",
       "      <th>MentHlth</th>\n",
       "      <th>PhysHlth</th>\n",
       "      <th>DiffWalk</th>\n",
       "      <th>Age</th>\n",
       "    </tr>\n",
       "  </thead>\n",
       "  <tbody>\n",
       "    <tr>\n",
       "      <th>0</th>\n",
       "      <td>1.153688</td>\n",
       "      <td>1.165254</td>\n",
       "      <td>0.196922</td>\n",
       "      <td>1.757936</td>\n",
       "      <td>1.120927</td>\n",
       "      <td>-0.205637</td>\n",
       "      <td>-0.322458</td>\n",
       "      <td>2.329121</td>\n",
       "      <td>1.998592</td>\n",
       "      <td>1.233999</td>\n",
       "      <td>2.223615</td>\n",
       "      <td>0.316900</td>\n",
       "    </tr>\n",
       "    <tr>\n",
       "      <th>1</th>\n",
       "      <td>-0.866785</td>\n",
       "      <td>-0.858182</td>\n",
       "      <td>-5.078164</td>\n",
       "      <td>-0.511806</td>\n",
       "      <td>1.120927</td>\n",
       "      <td>-0.205637</td>\n",
       "      <td>-0.322458</td>\n",
       "      <td>0.457294</td>\n",
       "      <td>-0.429630</td>\n",
       "      <td>-0.486592</td>\n",
       "      <td>-0.449718</td>\n",
       "      <td>-0.337933</td>\n",
       "    </tr>\n",
       "    <tr>\n",
       "      <th>2</th>\n",
       "      <td>1.153688</td>\n",
       "      <td>1.165254</td>\n",
       "      <td>0.196922</td>\n",
       "      <td>-0.057858</td>\n",
       "      <td>-0.892119</td>\n",
       "      <td>-0.205637</td>\n",
       "      <td>-0.322458</td>\n",
       "      <td>2.329121</td>\n",
       "      <td>3.617407</td>\n",
       "      <td>2.954590</td>\n",
       "      <td>2.223615</td>\n",
       "      <td>0.316900</td>\n",
       "    </tr>\n",
       "    <tr>\n",
       "      <th>3</th>\n",
       "      <td>1.153688</td>\n",
       "      <td>-0.858182</td>\n",
       "      <td>0.196922</td>\n",
       "      <td>-0.209174</td>\n",
       "      <td>-0.892119</td>\n",
       "      <td>-0.205637</td>\n",
       "      <td>-0.322458</td>\n",
       "      <td>-0.478619</td>\n",
       "      <td>-0.429630</td>\n",
       "      <td>-0.486592</td>\n",
       "      <td>-0.449718</td>\n",
       "      <td>0.971733</td>\n",
       "    </tr>\n",
       "    <tr>\n",
       "      <th>4</th>\n",
       "      <td>1.153688</td>\n",
       "      <td>1.165254</td>\n",
       "      <td>0.196922</td>\n",
       "      <td>-0.663122</td>\n",
       "      <td>-0.892119</td>\n",
       "      <td>-0.205637</td>\n",
       "      <td>-0.322458</td>\n",
       "      <td>-0.478619</td>\n",
       "      <td>-0.024926</td>\n",
       "      <td>-0.486592</td>\n",
       "      <td>-0.449718</td>\n",
       "      <td>0.971733</td>\n",
       "    </tr>\n",
       "  </tbody>\n",
       "</table>\n",
       "</div>"
      ],
      "text/plain": [
       "     HighBP  HighChol  CholCheck       BMI    Smoker    Stroke  \\\n",
       "0  1.153688  1.165254   0.196922  1.757936  1.120927 -0.205637   \n",
       "1 -0.866785 -0.858182  -5.078164 -0.511806  1.120927 -0.205637   \n",
       "2  1.153688  1.165254   0.196922 -0.057858 -0.892119 -0.205637   \n",
       "3  1.153688 -0.858182   0.196922 -0.209174 -0.892119 -0.205637   \n",
       "4  1.153688  1.165254   0.196922 -0.663122 -0.892119 -0.205637   \n",
       "\n",
       "   HeartDiseaseorAttack   GenHlth  MentHlth  PhysHlth  DiffWalk       Age  \n",
       "0             -0.322458  2.329121  1.998592  1.233999  2.223615  0.316900  \n",
       "1             -0.322458  0.457294 -0.429630 -0.486592 -0.449718 -0.337933  \n",
       "2             -0.322458  2.329121  3.617407  2.954590  2.223615  0.316900  \n",
       "3             -0.322458 -0.478619 -0.429630 -0.486592 -0.449718  0.971733  \n",
       "4             -0.322458 -0.478619 -0.024926 -0.486592 -0.449718  0.971733  "
      ]
     },
     "execution_count": 34,
     "metadata": {},
     "output_type": "execute_result"
    }
   ],
   "source": [
    "scaler = StandardScaler()\n",
    "scaler.fit(X)\n",
    "scaled_features = scaler.transform(X)\n",
    "X = pd.DataFrame(scaled_features,columns=smaller_df.columns[1:])\n",
    "X.head()"
   ]
  },
  {
   "cell_type": "code",
   "execution_count": 35,
   "id": "97db890a",
   "metadata": {},
   "outputs": [
    {
     "data": {
      "text/html": [
       "<div>\n",
       "<style scoped>\n",
       "    .dataframe tbody tr th:only-of-type {\n",
       "        vertical-align: middle;\n",
       "    }\n",
       "\n",
       "    .dataframe tbody tr th {\n",
       "        vertical-align: top;\n",
       "    }\n",
       "\n",
       "    .dataframe thead th {\n",
       "        text-align: right;\n",
       "    }\n",
       "</style>\n",
       "<table border=\"1\" class=\"dataframe\">\n",
       "  <thead>\n",
       "    <tr style=\"text-align: right;\">\n",
       "      <th></th>\n",
       "      <th>HighBP</th>\n",
       "      <th>HighChol</th>\n",
       "      <th>CholCheck</th>\n",
       "      <th>BMI</th>\n",
       "      <th>Smoker</th>\n",
       "      <th>Stroke</th>\n",
       "      <th>HeartDiseaseorAttack</th>\n",
       "      <th>GH</th>\n",
       "      <th>MentHlth</th>\n",
       "      <th>PhysHlth</th>\n",
       "      <th>DiffWalk</th>\n",
       "      <th>Age</th>\n",
       "    </tr>\n",
       "  </thead>\n",
       "  <tbody>\n",
       "    <tr>\n",
       "      <th>0</th>\n",
       "      <td>1.153688</td>\n",
       "      <td>1.165254</td>\n",
       "      <td>0.196922</td>\n",
       "      <td>1.757936</td>\n",
       "      <td>1.120927</td>\n",
       "      <td>-0.205637</td>\n",
       "      <td>-0.322458</td>\n",
       "      <td>-2.329121</td>\n",
       "      <td>1.998592</td>\n",
       "      <td>1.233999</td>\n",
       "      <td>2.223615</td>\n",
       "      <td>0.316900</td>\n",
       "    </tr>\n",
       "    <tr>\n",
       "      <th>1</th>\n",
       "      <td>-0.866785</td>\n",
       "      <td>-0.858182</td>\n",
       "      <td>-5.078164</td>\n",
       "      <td>-0.511806</td>\n",
       "      <td>1.120927</td>\n",
       "      <td>-0.205637</td>\n",
       "      <td>-0.322458</td>\n",
       "      <td>-0.457294</td>\n",
       "      <td>-0.429630</td>\n",
       "      <td>-0.486592</td>\n",
       "      <td>-0.449718</td>\n",
       "      <td>-0.337933</td>\n",
       "    </tr>\n",
       "    <tr>\n",
       "      <th>2</th>\n",
       "      <td>1.153688</td>\n",
       "      <td>1.165254</td>\n",
       "      <td>0.196922</td>\n",
       "      <td>-0.057858</td>\n",
       "      <td>-0.892119</td>\n",
       "      <td>-0.205637</td>\n",
       "      <td>-0.322458</td>\n",
       "      <td>-2.329121</td>\n",
       "      <td>3.617407</td>\n",
       "      <td>2.954590</td>\n",
       "      <td>2.223615</td>\n",
       "      <td>0.316900</td>\n",
       "    </tr>\n",
       "    <tr>\n",
       "      <th>3</th>\n",
       "      <td>1.153688</td>\n",
       "      <td>-0.858182</td>\n",
       "      <td>0.196922</td>\n",
       "      <td>-0.209174</td>\n",
       "      <td>-0.892119</td>\n",
       "      <td>-0.205637</td>\n",
       "      <td>-0.322458</td>\n",
       "      <td>0.478619</td>\n",
       "      <td>-0.429630</td>\n",
       "      <td>-0.486592</td>\n",
       "      <td>-0.449718</td>\n",
       "      <td>0.971733</td>\n",
       "    </tr>\n",
       "    <tr>\n",
       "      <th>4</th>\n",
       "      <td>1.153688</td>\n",
       "      <td>1.165254</td>\n",
       "      <td>0.196922</td>\n",
       "      <td>-0.663122</td>\n",
       "      <td>-0.892119</td>\n",
       "      <td>-0.205637</td>\n",
       "      <td>-0.322458</td>\n",
       "      <td>0.478619</td>\n",
       "      <td>-0.024926</td>\n",
       "      <td>-0.486592</td>\n",
       "      <td>-0.449718</td>\n",
       "      <td>0.971733</td>\n",
       "    </tr>\n",
       "  </tbody>\n",
       "</table>\n",
       "</div>"
      ],
      "text/plain": [
       "     HighBP  HighChol  CholCheck       BMI    Smoker    Stroke  \\\n",
       "0  1.153688  1.165254   0.196922  1.757936  1.120927 -0.205637   \n",
       "1 -0.866785 -0.858182  -5.078164 -0.511806  1.120927 -0.205637   \n",
       "2  1.153688  1.165254   0.196922 -0.057858 -0.892119 -0.205637   \n",
       "3  1.153688 -0.858182   0.196922 -0.209174 -0.892119 -0.205637   \n",
       "4  1.153688  1.165254   0.196922 -0.663122 -0.892119 -0.205637   \n",
       "\n",
       "   HeartDiseaseorAttack        GH  MentHlth  PhysHlth  DiffWalk       Age  \n",
       "0             -0.322458 -2.329121  1.998592  1.233999  2.223615  0.316900  \n",
       "1             -0.322458 -0.457294 -0.429630 -0.486592 -0.449718 -0.337933  \n",
       "2             -0.322458 -2.329121  3.617407  2.954590  2.223615  0.316900  \n",
       "3             -0.322458  0.478619 -0.429630 -0.486592 -0.449718  0.971733  \n",
       "4             -0.322458  0.478619 -0.024926 -0.486592 -0.449718  0.971733  "
      ]
     },
     "execution_count": 35,
     "metadata": {},
     "output_type": "execute_result"
    }
   ],
   "source": [
    "scaler = StandardScaler()\n",
    "scaler.fit(X1)\n",
    "scaled_features1 = scaler.transform(X1)\n",
    "X1 = pd.DataFrame(scaled_features1,columns=smaller_df1.columns[1:])\n",
    "X1.head()"
   ]
  },
  {
   "cell_type": "code",
   "execution_count": 36,
   "id": "fac7a5e3",
   "metadata": {
    "id": "fac7a5e3"
   },
   "outputs": [],
   "source": [
    "x_train_val, x_test, y_train_val, y_test = train_test_split(X, y, test_size=0.20, random_state=42)\n",
    "x_train, x_val, y_train, y_val = train_test_split(x_train_val, y_train_val, test_size=0.20, random_state=42)\n",
    "\n",
    "x_traing, x_testg, y_traing, y_testg = train_test_split(X1, y1, test_size=0.20, random_state=42)\n",
    "x_traing, x_valg, y_traing, y_valg = train_test_split(x_traing, y_traing, test_size=0.20, random_state=42)\n"
   ]
  },
  {
   "cell_type": "code",
   "execution_count": 37,
   "id": "c485cc45",
   "metadata": {
    "colab": {
     "base_uri": "https://localhost:8080/"
    },
    "id": "c485cc45",
    "outputId": "a92f463c-e12c-46d9-8b7d-d3648f3d58d0"
   },
   "outputs": [
    {
     "name": "stdout",
     "output_type": "stream",
     "text": [
      "(162355, 12)\n",
      "(40589, 12)\n",
      "(50736, 12)\n"
     ]
    }
   ],
   "source": [
    "print(x_train.shape)\n",
    "print(x_val.shape)\n",
    "print(x_test.shape)"
   ]
  },
  {
   "cell_type": "markdown",
   "id": "e72bb993",
   "metadata": {},
   "source": [
    "# Experiment 1-1: K-nearest Neighbors Classification without using cross vaidation"
   ]
  },
  {
   "cell_type": "code",
   "execution_count": 38,
   "id": "e4f3b2b8",
   "metadata": {},
   "outputs": [],
   "source": [
    "# create a dict to store the scores of each model\n",
    "Training_models_evalutions = {'TrainigSet_Models':[],\n",
    "                     'Accuracy':[],\n",
    "                     'Precision':[],\n",
    "                     'Recall':[], \n",
    "                     'F1 score':[]}"
   ]
  },
  {
   "cell_type": "code",
   "execution_count": 39,
   "id": "ff3d3ed0",
   "metadata": {},
   "outputs": [],
   "source": [
    "# create a dict to store the scores of each model\n",
    "Validation_models_evalutions = {'ValidationSet_Models':[],\n",
    "                     'Accuracy':[],\n",
    "                     'Precision':[],\n",
    "                     'Recall':[], \n",
    "                     'F1 score':[]}"
   ]
  },
  {
   "cell_type": "code",
   "execution_count": 40,
   "id": "fa55ce95",
   "metadata": {},
   "outputs": [],
   "source": [
    "x0_train=x_train.copy()\n",
    "x0_val=x_val.copy()"
   ]
  },
  {
   "cell_type": "code",
   "execution_count": 41,
   "id": "9077a404",
   "metadata": {
    "colab": {
     "base_uri": "https://localhost:8080/"
    },
    "id": "9077a404",
    "outputId": "1f3e7da0-c187-4981-fde0-84759f25f269"
   },
   "outputs": [
    {
     "name": "stdout",
     "output_type": "stream",
     "text": [
      "The score for kNN without cross val and without using smote is\n",
      "Training set:  88.10%\n",
      "Validation set:  82.00%\n",
      "Test set:  81.94%\n"
     ]
    }
   ],
   "source": [
    "# Using KNN (smaller df1) train on training set, and Test on testing set \n",
    "knn = KNeighborsClassifier(n_neighbors=3)\n",
    "knn.fit(x0_train, y_train)\n",
    "print(\"The score for kNN without cross val and without using smote is\")\n",
    "print(\"Training set: {:6.2f}%\".format(100*knn.score(x0_train, y_train)))\n",
    "print(\"Validation set: {:6.2f}%\".format(100*knn.score(x0_val, y_val)))\n",
    "print(\"Test set: {:6.2f}%\".format(100*knn.score(x_test, y_test)))"
   ]
  },
  {
   "cell_type": "code",
   "execution_count": null,
   "id": "L7YA1e8-4PTR",
   "metadata": {
    "id": "L7YA1e8-4PTR"
   },
   "outputs": [],
   "source": []
  },
  {
   "cell_type": "code",
   "execution_count": 42,
   "id": "tc-ohZ_FSyOw",
   "metadata": {
    "colab": {
     "base_uri": "https://localhost:8080/"
    },
    "id": "tc-ohZ_FSyOw",
    "outputId": "6acee33c-fc26-41d9-8dd5-227decb34095"
   },
   "outputs": [
    {
     "data": {
      "text/plain": [
       "'\\n# using KNN (smaller df2) train on training set, and Test on testing set\\nknn1 = KNeighborsClassifier(n_neighbors=5)\\nknn1.fit(x_train2, y_train2)\\nprint(\"The score for kNN is\")\\nprint(\"Training set: {:6.2f}%\".format(100*knn.score(x_train2, y_train2)))\\nprint(\"Validation set: {:6.2f}%\".format(100*knn.score(x_val2, y_val2)))\\nprint(\"Test set: {:6.2f}%\".format(100*knn.score(x_test2, y_test2)))\\n'"
      ]
     },
     "execution_count": 42,
     "metadata": {},
     "output_type": "execute_result"
    }
   ],
   "source": [
    "'''\n",
    "# using KNN (smaller df2) train on training set, and Test on testing set\n",
    "knn1 = KNeighborsClassifier(n_neighbors=5)\n",
    "knn1.fit(x_train2, y_train2)\n",
    "print(\"The score for kNN is\")\n",
    "print(\"Training set: {:6.2f}%\".format(100*knn.score(x_train2, y_train2)))\n",
    "print(\"Validation set: {:6.2f}%\".format(100*knn.score(x_val2, y_val2)))\n",
    "print(\"Test set: {:6.2f}%\".format(100*knn.score(x_test2, y_test2)))\n",
    "'''"
   ]
  },
  {
   "cell_type": "code",
   "execution_count": 43,
   "id": "hZy51p_ZgnPp",
   "metadata": {
    "colab": {
     "base_uri": "https://localhost:8080/"
    },
    "id": "hZy51p_ZgnPp",
    "outputId": "83e1fca4-63cf-4bec-e6a9-193832677cce"
   },
   "outputs": [
    {
     "name": "stdout",
     "output_type": "stream",
     "text": [
      "\n",
      "KNN Accuracy for validation set=: 0.8200, \n",
      "precision: 0.3973, \n",
      "recall: 0.2786,\n",
      "F1: 0.3275\n"
     ]
    }
   ],
   "source": [
    "#test the baseline model for smaller df\n",
    "#prediction\n",
    "val_pred=knn.predict(x0_val)\n",
    "#Accuracy\n",
    "confusion_hard = confusion_matrix( y_val, val_pred)\n",
    "accuracy = accuracy_score(y_val , val_pred)\n",
    "precision = precision_score(y_val , val_pred)\n",
    "recall = recall_score(y_val , val_pred)\n",
    "f1 = f1_score(y_val,val_pred) \n",
    "print('\\nKNN Accuracy for validation set=: {0:.4f}, \\nprecision: {1:.4f}, \\nrecall: {2:.4f},\\\n",
    "\\nF1: {3:.4f}'.format(accuracy, precision, recall, f1))"
   ]
  },
  {
   "cell_type": "code",
   "execution_count": 44,
   "id": "lZymTddL3EBm",
   "metadata": {
    "colab": {
     "base_uri": "https://localhost:8080/",
     "height": 283
    },
    "id": "lZymTddL3EBm",
    "outputId": "8944b163-2fa3-45e3-b5f7-710c692b0725"
   },
   "outputs": [
    {
     "data": {
      "image/png": "[encoded data removed]",
      "text/plain": [
       "<Figure size 432x288 with 2 Axes>"
      ]
     },
     "metadata": {
      "needs_background": "light"
     },
     "output_type": "display_data"
    }
   ],
   "source": [
    "cm = confusion_matrix(y_val, val_pred)\n",
    "class_label = [\"No_Diabetes\", \"Diabetes\"]\n",
    "df_cm = pd.DataFrame(cm, index = class_label, columns = class_label)\n",
    "sns.heatmap(df_cm, annot = True, fmt = \"d\",  cmap = plt.cm.Blues )\n",
    "plt.title('Confusion matrix for knn befoes balancing two classes and using cross validation', fontsize = 20); # title with fontsize 20"
   ]
  },
  {
   "cell_type": "markdown",
   "id": "3425b8e6",
   "metadata": {
    "id": "3425b8e6"
   },
   "source": [
    "# Experiment 1-2: K-nearest Neighbors Classification with cross validation & Smote"
   ]
  },
  {
   "cell_type": "markdown",
   "id": "3ACtsad9GcwK",
   "metadata": {
    "id": "3ACtsad9GcwK"
   },
   "source": [
    "Becouse of our target's labels imbalance we will use Smote to balance them with cross validation."
   ]
  },
  {
   "cell_type": "code",
   "execution_count": 45,
   "id": "248f64e3",
   "metadata": {},
   "outputs": [],
   "source": [
    "kf = KFold(n_splits=5, random_state=42, shuffle=True)"
   ]
  },
  {
   "cell_type": "code",
   "execution_count": 46,
   "id": "e888d7ef",
   "metadata": {
    "scrolled": false
   },
   "outputs": [
    {
     "name": "stdout",
     "output_type": "stream",
     "text": [
      "kNN Training accuracy score: \t\n",
      "0.8563224065645574\n",
      "----------------\n",
      "kNN F1 score: \t\n",
      "0.8596409947290311\n",
      "----------------\n",
      "kNN confusion matrix: \n",
      " [[26673  7491]\n",
      " [ 2868  3556]]\n",
      "----------------\n",
      "KNN precision score\n",
      "0.8402142103739868\n",
      "----------------\n",
      "KNN recall_score\n",
      "0.8800432434534559\n",
      "----------------\n"
     ]
    }
   ],
   "source": [
    "knn = KNeighborsClassifier(n_neighbors=5)\n",
    "accuracy_score1=[]\n",
    "f1_score1 = []\n",
    "percision_score1 = []\n",
    "recall_score1 = []\n",
    "\n",
    "accuracy_score2=[]\n",
    "f1_score2 = []\n",
    "percision_score2 = []\n",
    "recall_score2 = []\n",
    "\n",
    "# enumerate the splits and summarize the distributions\n",
    "for train_ix, test_ix in kf.split(x_train_val, y_train_val):\n",
    "    # select rows\n",
    "    train_x, test_X = X.iloc[train_ix], X.iloc[test_ix]\n",
    "    y_train1, test_y = y.iloc[train_ix], y.iloc[test_ix]\n",
    "    #print(train_X.shape, train_y.shape)\n",
    "    #print(test_X.shape, test_y.shape)\n",
    "    oversample = SMOTE(random_state = 0)\n",
    "    train_x, y_train1 = oversample.fit_resample(train_x, y_train1)\n",
    "    #scores= cross_val_score(knn, test_X, test_y, cv=5, scoring='accuracy') \n",
    "    knn.fit(train_x, y_train1)\n",
    "    \n",
    "    y_traing_pred =knn.predict(train_x)\n",
    "    \n",
    "    y_pred =knn.predict(test_X)\n",
    "    \n",
    "    #score = f1_score(test_y,y_pred)\n",
    "    accuracy_score1.append(metrics.accuracy_score(y_train1, y_traing_pred))\n",
    "    percision_score1.append(metrics.precision_score(y_train1, y_traing_pred))\n",
    "    recall_score1.append(metrics.recall_score(y_train1, y_traing_pred))\n",
    "    f1_score1.append(metrics.f1_score(y_train1, y_traing_pred))\n",
    "    \n",
    "    accuracy_score2.append(metrics.accuracy_score(test_y, y_pred))\n",
    "    percision_score2.append(metrics.precision_score(test_y, y_pred))\n",
    "    recall_score2.append(metrics.recall_score(test_y, y_pred))\n",
    "    f1_score2.append(metrics.f1_score(test_y, y_pred))\n",
    "\n",
    "\t#pre_scor = precision_score(test_y, y_pred) \n",
    "\t#pre_score3.append(pre_scor)\n",
    "\t#r = recall_score(test_X, test_y)\n",
    "\t#recall_scor3.append(1)\n",
    "    \n",
    "print(\"kNN Training accuracy score: \\t\")\n",
    "print(sum(accuracy_score1) / len(accuracy_score1))\n",
    "print(\"----------------\")    \n",
    "print(\"kNN F1 score: \\t\")\n",
    "print(sum(f1_score1) / len(f1_score1))\n",
    "print(\"----------------\")\n",
    "conf_mat3 = confusion_matrix(test_y, y_pred)\n",
    "print(\"kNN confusion matrix: \\n\",conf_mat3)\n",
    "print(\"----------------\")\n",
    "print(\"KNN precision score\")\n",
    "print(sum(percision_score1) / len(percision_score1))\n",
    "print(\"----------------\")\n",
    "print(\"KNN recall_score\")\n",
    "print(sum(recall_score1) / len(recall_score1))\n",
    "print(\"----------------\")\n",
    "#print score for all evaluations\n"
   ]
  },
  {
   "cell_type": "code",
   "execution_count": 47,
   "id": "8308763f",
   "metadata": {},
   "outputs": [],
   "source": [
    "Training_models_evalutions['TrainigSet_Models'].append(\"K-nearest Neighbors Classification\")\n",
    "Training_models_evalutions['Accuracy'].append(accuracy_score(y_train1, y_traing_pred))\n",
    "Training_models_evalutions['Precision'].append(precision_score(y_train1, y_traing_pred))\n",
    "Training_models_evalutions['Recall'].append(recall_score(y_train1, y_traing_pred))\n",
    "Training_models_evalutions['F1 score'].append(f1_score(y_train1, y_traing_pred))"
   ]
  },
  {
   "cell_type": "code",
   "execution_count": 48,
   "id": "f4a42ffe",
   "metadata": {},
   "outputs": [],
   "source": [
    "Validation_models_evalutions['ValidationSet_Models'].append(\"K-nearest Neighbors Classification\")\n",
    "Validation_models_evalutions['Accuracy'].append(accuracy_score(test_y, y_pred))\n",
    "Validation_models_evalutions['Precision'].append(precision_score(test_y, y_pred))\n",
    "Validation_models_evalutions['Recall'].append(recall_score(test_y, y_pred))\n",
    "Validation_models_evalutions['F1 score'].append(f1_score(test_y, y_pred))"
   ]
  },
  {
   "cell_type": "code",
   "execution_count": 49,
   "id": "f0aa01ee",
   "metadata": {},
   "outputs": [],
   "source": [
    "knn_final = knn.n_neighbors"
   ]
  },
  {
   "cell_type": "code",
   "execution_count": 50,
   "id": "31f88fe4",
   "metadata": {
    "scrolled": false
   },
   "outputs": [
    {
     "data": {
      "image/png": "[encoded data removed]",
      "text/plain": [
       "<Figure size 432x288 with 2 Axes>"
      ]
     },
     "metadata": {
      "needs_background": "light"
     },
     "output_type": "display_data"
    }
   ],
   "source": [
    "cm =confusion_matrix(test_y, y_pred)\n",
    "class_label = [\"No-Diabetes\", \"Diabetes\"]\n",
    "df_cm = pd.DataFrame(cm, index = class_label, columns = class_label)\n",
    "sns.heatmap(df_cm, annot = True, fmt = \"d\", cmap=plt.cm.Blues)\n",
    "plt.title('Confusion matrix for knn with cross validation and Smote', fontsize = 20); # title with fontsize 20"
   ]
  },
  {
   "cell_type": "code",
   "execution_count": 51,
   "id": "UjRxQaidz9bj",
   "metadata": {
    "id": "UjRxQaidz9bj"
   },
   "outputs": [
    {
     "data": {
      "text/plain": [
       "'\\ndef score_model(model, params, cv=None):\\n    if cv is None:\\n        cv = KFold(n_splits=5, random_state=42)\\n        smoter = SMOTE(random_state=42)\\n        scores = 0\\n\\n    for train_fold_index, val_fold_index in cv.split(x, y):\\n        \\n        x_train_fold, y_train_fold = x.iloc[train_fold_index], y[train_fold_index]\\n        \\n        x_val_fold, y_val_fold = x.iloc[val_fold_index], y[val_fold_index]\\n        \\n        x_train_fold_upsample, y_train_fold_upsample = smoter.fit_resample(x_train_fold, y_train_fold)\\n        \\n        model_obj = model(**params).fit(x_train_fold_upsample, y_train_fold_upsample)\\n        \\n        score_recall = recall_score(y_val_fold, model_obj.predict(x_val_fold))\\n        \\n            #score_percision=precision_score(y_val_fold, model_obj.predict(x_val_fold)) \\n            #score_recall= recall_score(y_val_fold, model_obj.predict(x_val_fold)) \\n            #score_f1=f1_score(y_val_fold, model_obj.predict(x_val_fold))\\n            #print(\\'accuracy_score): {}\\'.format(score_accuracy))\\n            #print(\\'precision_score: {}\\'.format(score_percision))\\n            #print(\\'recall_score: {}\\'.format(score_recall))\\n            #print(\\'f1 score: {}\\'.format(score_f1))\\n        scores.append(score_recall)\\n#print(\"The model is:{:6.2f}%\".format(model))\\n    return np.array(scores)\\nkf = KFold(n_splits=5, random_state=42, shuffle=True)\\nparams1 = {\\'n_neighbors\\':3}\\nparams2 = {\\'n_estimators\\': 50,\\'max_depth\\':4 ,\\'random_state\\': 13}\\n\\nk=score_model(RandomForestClassifier, params2, cv=kf)\\nprint (k)    \\n'"
      ]
     },
     "execution_count": 51,
     "metadata": {},
     "output_type": "execute_result"
    }
   ],
   "source": [
    "'''\n",
    "def score_model(model, params, cv=None):\n",
    "    if cv is None:\n",
    "        cv = KFold(n_splits=5, random_state=42)\n",
    "        smoter = SMOTE(random_state=42)\n",
    "        scores = 0\n",
    "\n",
    "    for train_fold_index, val_fold_index in cv.split(x, y):\n",
    "        \n",
    "        x_train_fold, y_train_fold = x.iloc[train_fold_index], y[train_fold_index]\n",
    "        \n",
    "        x_val_fold, y_val_fold = x.iloc[val_fold_index], y[val_fold_index]\n",
    "        \n",
    "        x_train_fold_upsample, y_train_fold_upsample = smoter.fit_resample(x_train_fold, y_train_fold)\n",
    "        \n",
    "        model_obj = model(**params).fit(x_train_fold_upsample, y_train_fold_upsample)\n",
    "        \n",
    "        score_recall = recall_score(y_val_fold, model_obj.predict(x_val_fold))\n",
    "        \n",
    "            #score_percision=precision_score(y_val_fold, model_obj.predict(x_val_fold)) \n",
    "            #score_recall= recall_score(y_val_fold, model_obj.predict(x_val_fold)) \n",
    "            #score_f1=f1_score(y_val_fold, model_obj.predict(x_val_fold))\n",
    "            #print('accuracy_score): {}'.format(score_accuracy))\n",
    "            #print('precision_score: {}'.format(score_percision))\n",
    "            #print('recall_score: {}'.format(score_recall))\n",
    "            #print('f1 score: {}'.format(score_f1))\n",
    "        scores.append(score_recall)\n",
    "#print(\"The model is:{:6.2f}%\".format(model))\n",
    "    return np.array(scores)\n",
    "kf = KFold(n_splits=5, random_state=42, shuffle=True)\n",
    "params1 = {'n_neighbors':3}\n",
    "params2 = {'n_estimators': 50,'max_depth':4 ,'random_state': 13}\n",
    "\n",
    "k=score_model(RandomForestClassifier, params2, cv=kf)\n",
    "print (k)    \n",
    "'''"
   ]
  },
  {
   "cell_type": "markdown",
   "id": "CoiLaigsBK6R",
   "metadata": {
    "id": "CoiLaigsBK6R"
   },
   "source": [
    "# Expreiment 2: Logistic Regression Model with smote"
   ]
  },
  {
   "cell_type": "code",
   "execution_count": 52,
   "id": "1371bc99",
   "metadata": {},
   "outputs": [],
   "source": [
    "x2_train=x_train.copy()\n",
    "x2_val=x_val.copy()\n",
    "\n",
    "x2_traing=x_traing.copy()\n",
    "x2_valg=x_valg.copy()"
   ]
  },
  {
   "cell_type": "code",
   "execution_count": 53,
   "id": "Wgx127ikz9fa",
   "metadata": {
    "colab": {
     "base_uri": "https://localhost:8080/",
     "height": 234
    },
    "id": "Wgx127ikz9fa",
    "outputId": "7086118b-0d16-4e82-ca88-5aa649dcfa89",
    "scrolled": true
   },
   "outputs": [
    {
     "name": "stdout",
     "output_type": "stream",
     "text": [
      "Best params:  {'C': 0.5, 'penalty': 'l2'}\n",
      "Best estimator:  LogisticRegression(C=0.5)\n",
      "Best score:  0.846613907749515\n",
      "Training Score before balance the labels: 0.8465707862400296\n",
      "Validation Score before balance the labels: 0.8495897903372835\n",
      "\n",
      "Logistic Regression Accuracy= 0.8495897903372835\n",
      "Logistic Regression F1 score= 0.27226129455239\n"
     ]
    }
   ],
   "source": [
    "#Before balance classes\n",
    "lr=LogisticRegression()\n",
    "prams ={\"penalty\": [ 'l1', 'l2'],\n",
    "       \"C\": [0.5 , 0.7,0.8 , 1 , 2.0 , 3.0]}\n",
    "\n",
    "lr_cv= GridSearchCV(lr , param_grid=prams, n_jobs=-1 ,cv=10)\n",
    "lr_cv.fit(x2_train , y_train )\n",
    "\n",
    "print(\"Best params: \", lr_cv.best_params_)\n",
    "print(\"Best estimator: \" ,lr_cv.best_estimator_)\n",
    "print(\"Best score: \", lr_cv.best_score_)\n",
    "\n",
    "print(\"Training Score before balance the labels:\",lr_cv.score(x2_train, y_train))\n",
    "print(\"Validation Score before balance the labels:\",lr_cv.score(x2_val, y_val))\n",
    "\n",
    "y_pred = lr_cv.predict(x2_val)\n",
    "print(\"\\nLogistic Regression Accuracy=\",accuracy_score(y_val, y_pred))\n",
    "print(\"Logistic Regression F1 score=\",f1_score(y_val, y_pred))"
   ]
  },
  {
   "cell_type": "code",
   "execution_count": 54,
   "id": "zWAGIzgCctxo",
   "metadata": {
    "id": "zWAGIzgCctxo"
   },
   "outputs": [
    {
     "data": {
      "text/plain": [
       "0.846613907749515"
      ]
     },
     "execution_count": 54,
     "metadata": {},
     "output_type": "execute_result"
    }
   ],
   "source": [
    "lr_cv.best_score_"
   ]
  },
  {
   "cell_type": "code",
   "execution_count": 55,
   "id": "dbdc1ba0",
   "metadata": {},
   "outputs": [
    {
     "data": {
      "text/plain": [
       "LogisticRegression(C=0.5)"
      ]
     },
     "execution_count": 55,
     "metadata": {},
     "output_type": "execute_result"
    }
   ],
   "source": [
    "lr_final = lr_cv.best_estimator_\n",
    "lr_final"
   ]
  },
  {
   "cell_type": "code",
   "execution_count": 56,
   "id": "5JJsE7xFO84R",
   "metadata": {
    "colab": {
     "base_uri": "https://localhost:8080/",
     "height": 165
    },
    "id": "5JJsE7xFO84R",
    "outputId": "3cf4cf99-724c-41eb-b9bc-ca2579214e2a"
   },
   "outputs": [
    {
     "data": {
      "text/plain": [
       "0.8465707862400296"
      ]
     },
     "execution_count": 56,
     "metadata": {},
     "output_type": "execute_result"
    }
   ],
   "source": [
    "lr_final.score(x2_train , y_train)"
   ]
  },
  {
   "cell_type": "code",
   "execution_count": 57,
   "id": "2uQ2bXniO88j",
   "metadata": {
    "id": "2uQ2bXniO88j"
   },
   "outputs": [
    {
     "data": {
      "text/plain": [
       "0.8495897903372835"
      ]
     },
     "execution_count": 57,
     "metadata": {},
     "output_type": "execute_result"
    }
   ],
   "source": [
    "lr_final.score(x_val , y_val)"
   ]
  },
  {
   "cell_type": "markdown",
   "id": "4056a988",
   "metadata": {},
   "source": [
    "The Class Imbalance classification divided into three:\n",
    "\n",
    "> 1. Before model training: Resampling strategies (oversampling, undersampling)\n",
    "\n",
    "> 2. During model training: Training with adjusted class weights\n",
    "\n",
    "> 3. After model training: Adjusting the decision threshold (F1 optimization strategy)"
   ]
  },
  {
   "cell_type": "markdown",
   "id": "58c57501",
   "metadata": {},
   "source": [
    "# Experiment2-1 with random over sampling"
   ]
  },
  {
   "cell_type": "code",
   "execution_count": 58,
   "id": "6c87cab8",
   "metadata": {
    "scrolled": true
   },
   "outputs": [
    {
     "name": "stdout",
     "output_type": "stream",
     "text": [
      "Training Score after balance the labels (RandomOverSampler): 0.7389744340002194\n",
      "Validation Score after balance the labels (RandomOverSampler) 0.7266993520411934\n"
     ]
    }
   ],
   "source": [
    "lg1 = LogisticRegression(C=0.5,penalty=\"l2\")\n",
    "\n",
    "# randomly oversample positive samples\n",
    "ROS = RandomOverSampler(random_state=42)\n",
    "\n",
    "X_tr_rs, y_tr_rs = ROS.fit_resample(x2_train, y_train)\n",
    "\n",
    "lg1.fit(X_tr_rs, y_tr_rs)\n",
    "print(\"Training Score after balance the labels (RandomOverSampler):\",lg1.score(X_tr_rs, y_tr_rs))\n",
    "print(\"Validation Score after balance the labels (RandomOverSampler)\",lg1.score(x_val, y_val))\n",
    "#model_eval(model3,X_test_std,y_test)"
   ]
  },
  {
   "cell_type": "markdown",
   "id": "c38dde85",
   "metadata": {},
   "source": [
    "# Experiment2-2 whith random under sampling\n"
   ]
  },
  {
   "cell_type": "code",
   "execution_count": 59,
   "id": "ef89f303",
   "metadata": {},
   "outputs": [
    {
     "name": "stdout",
     "output_type": "stream",
     "text": [
      "Training Score after balance the labels (RandomUnderSampler) 0.7384795321637427\n",
      "Validation Score after balance the labels (RandomUnderSampler): 0.7292369853901304\n"
     ]
    }
   ],
   "source": [
    "lg2 = LogisticRegression(C=0.5,penalty=\"l2\")\n",
    "\n",
    "RUS = RandomUnderSampler(random_state=42)\n",
    "\n",
    "X_tr_us, y_tr_us = RUS.fit_resample(x2_train, y_train)\n",
    "\n",
    "lg2.fit(X_tr_us, y_tr_us)\n",
    "print(\"Training Score after balance the labels (RandomUnderSampler)\",lg2.score(X_tr_us, y_tr_us))\n",
    "print(\"Validation Score after balance the labels (RandomUnderSampler):\",lg2.score(x2_val, y_val))\n",
    "#model_eval(lg2,X_test_std,y_test)"
   ]
  },
  {
   "cell_type": "markdown",
   "id": "9aef979f",
   "metadata": {},
   "source": [
    "# Experiment2-3 whith balanced weighted classes sampling\n"
   ]
  },
  {
   "cell_type": "code",
   "execution_count": 60,
   "id": "a3e72dc0",
   "metadata": {},
   "outputs": [
    {
     "name": "stdout",
     "output_type": "stream",
     "text": [
      "Training Score after Balanced class weights Logistic Regression 0.726408179606418\n",
      "Validation Score after Balanced class weights Logistic Regression: 0.7270689102958929\n"
     ]
    }
   ],
   "source": [
    "lg3 = LogisticRegression(C=0.5,penalty=\"l2\",class_weight='balanced')\n",
    "\n",
    "lg3.fit(x2_train, y_train)\n",
    "#y_pred=lg3.predict(x2_val)\n",
    "print(\"Training Score after Balanced class weights Logistic Regression\",lg3.score(x2_train, y_train))\n",
    "print(\"Validation Score after Balanced class weights Logistic Regression:\",lg3.score(x2_val, y_val))\n"
   ]
  },
  {
   "cell_type": "markdown",
   "id": "e064554b",
   "metadata": {},
   "source": [
    "# Experiment2-4 whith Smote"
   ]
  },
  {
   "cell_type": "code",
   "execution_count": 61,
   "id": "fa5bbcf4",
   "metadata": {},
   "outputs": [
    {
     "name": "stdout",
     "output_type": "stream",
     "text": [
      "Training Score after balance the labels (Smote): 0.7419809077941553\n",
      "Validation Score after balance the labels (Smote): 0.7282268594939516\n"
     ]
    }
   ],
   "source": [
    "lg = LogisticRegression(C=0.5,penalty=\"l2\")\n",
    "\n",
    "SMT = SMOTE(random_state=42)\n",
    "\n",
    "X_tr_smt, y_tr_smt = SMT.fit_resample(x2_train, y_train)\n",
    "\n",
    "lg.fit(X_tr_smt, y_tr_smt)\n",
    "y_traing_pred=lg.predict(X_tr_smt)\n",
    "y_pred=lg.predict(x2_val)\n",
    "\n",
    "print(\"Training Score after balance the labels (Smote):\",lg.score(X_tr_smt, y_tr_smt))\n",
    "print(\"Validation Score after balance the labels (Smote):\",lg.score(x2_val, y_val))\n",
    "#model_eval(model3,X_test_std,y_test)"
   ]
  },
  {
   "cell_type": "code",
   "execution_count": 62,
   "id": "afb7cda1",
   "metadata": {},
   "outputs": [
    {
     "data": {
      "text/plain": [
       "'\\n#experiment2-4 whith Smote\\nlg1 = LogisticRegression(C=1,penalty=\"l2\")\\n\\nSMT1 = SMOTE(random_state=42)\\n\\nX_tr_smtg, y_tr_smtg = SMT1.fit_resample(x2_traing, y_traing)\\n\\nlg1.fit(X_tr_smtg, y_tr_smtg)\\ny_traing_predg1=lg.predict(X_tr_smtg)\\nprint(\"After encoding Training Score after balance the labels (Smote):\",lg.score(X_tr_smtg, y_tr_smtg))\\nprint(\"After encoding Validation Score after balance the labels (Smote):\",lg.score(x2_valg, y_valg))\\n'"
      ]
     },
     "execution_count": 62,
     "metadata": {},
     "output_type": "execute_result"
    }
   ],
   "source": [
    "'''\n",
    "#experiment2-4 whith Smote\n",
    "lg1 = LogisticRegression(C=1,penalty=\"l2\")\n",
    "\n",
    "SMT1 = SMOTE(random_state=42)\n",
    "\n",
    "X_tr_smtg, y_tr_smtg = SMT1.fit_resample(x2_traing, y_traing)\n",
    "\n",
    "lg1.fit(X_tr_smtg, y_tr_smtg)\n",
    "y_traing_predg1=lg.predict(X_tr_smtg)\n",
    "print(\"After encoding Training Score after balance the labels (Smote):\",lg.score(X_tr_smtg, y_tr_smtg))\n",
    "print(\"After encoding Validation Score after balance the labels (Smote):\",lg.score(x2_valg, y_valg))\n",
    "'''"
   ]
  },
  {
   "cell_type": "markdown",
   "id": "669be2e5",
   "metadata": {},
   "source": [
    "the best result was for Smote "
   ]
  },
  {
   "cell_type": "code",
   "execution_count": 63,
   "id": "53885c3f",
   "metadata": {},
   "outputs": [],
   "source": [
    "Training_models_evalutions['TrainigSet_Models'].append(\"LogisticRegression\")\n",
    "Training_models_evalutions['Accuracy'].append(accuracy_score(y_tr_smt, y_traing_pred))\n",
    "Training_models_evalutions['Precision'].append(precision_score(y_tr_smt, y_traing_pred))\n",
    "Training_models_evalutions['Recall'].append(recall_score(y_tr_smt, y_traing_pred))\n",
    "Training_models_evalutions['F1 score'].append(f1_score(y_tr_smt, y_traing_pred))"
   ]
  },
  {
   "cell_type": "code",
   "execution_count": 64,
   "id": "b8346867",
   "metadata": {},
   "outputs": [
    {
     "data": {
      "text/plain": [
       "'\\nValidation_models_evalutions[\\'ValidationSet_Models\\'].append(\"LogisticRegression after encoding\")\\nValidation_models_evalutions[\\'Accuracy\\'].append(accuracy_score(y_tr_smtg, y_traing_predg1))\\nValidation_models_evalutions[\\'Precision\\'].append(precision_score(y_tr_smtg, y_traing_predg1))\\nValidation_models_evalutions[\\'Recall\\'].append(recall_score(y_tr_smtg, y_traing_predg1))\\nValidation_models_evalutions[\\'F1 score\\'].append(f1_score(y_tr_smtg, y_traing_predg1))\\n'"
      ]
     },
     "execution_count": 64,
     "metadata": {},
     "output_type": "execute_result"
    }
   ],
   "source": [
    "'''\n",
    "Validation_models_evalutions['ValidationSet_Models'].append(\"LogisticRegression after encoding\")\n",
    "Validation_models_evalutions['Accuracy'].append(accuracy_score(y_tr_smtg, y_traing_predg1))\n",
    "Validation_models_evalutions['Precision'].append(precision_score(y_tr_smtg, y_traing_predg1))\n",
    "Validation_models_evalutions['Recall'].append(recall_score(y_tr_smtg, y_traing_predg1))\n",
    "Validation_models_evalutions['F1 score'].append(f1_score(y_tr_smtg, y_traing_predg1))\n",
    "'''"
   ]
  },
  {
   "cell_type": "code",
   "execution_count": 65,
   "id": "d001be6f",
   "metadata": {},
   "outputs": [],
   "source": [
    "Validation_models_evalutions['ValidationSet_Models'].append(\"LogisticRegression\")\n",
    "Validation_models_evalutions['Accuracy'].append(accuracy_score(y_val, y_pred))\n",
    "Validation_models_evalutions['Precision'].append(precision_score(y_val, y_pred))\n",
    "Validation_models_evalutions['Recall'].append(recall_score(y_val, y_pred))\n",
    "Validation_models_evalutions['F1 score'].append(f1_score(y_val, y_pred))"
   ]
  },
  {
   "cell_type": "code",
   "execution_count": 66,
   "id": "c2e6d174",
   "metadata": {},
   "outputs": [
    {
     "data": {
      "image/png": "[encoded data removed]",
      "text/plain": [
       "<Figure size 432x288 with 2 Axes>"
      ]
     },
     "metadata": {
      "needs_background": "light"
     },
     "output_type": "display_data"
    }
   ],
   "source": [
    "# plotting confusion mtrix\n",
    "cm = confusion_matrix(y_val, y_pred)\n",
    "class_label = [\"No-Diabetes\", \"Diabetes\"]\n",
    "df_cm = pd.DataFrame(cm, index = class_label, columns = class_label)\n",
    "sns.heatmap(df_cm, annot = True, fmt = \"d\", cmap='Blues')\n",
    "plt.title('Confusion matrix for LogisticRegression ', fontsize = 20); # title with fontsize 20"
   ]
  },
  {
   "cell_type": "markdown",
   "id": "4b7245c9",
   "metadata": {
    "id": "4b7245c9"
   },
   "source": [
    "# Experiment 3: Decision Tree Classification"
   ]
  },
  {
   "cell_type": "markdown",
   "id": "4df8e32b",
   "metadata": {},
   "source": [
    "we will use here the ( x_train and y_train ) after balanced in Smote"
   ]
  },
  {
   "cell_type": "code",
   "execution_count": 67,
   "id": "7fdbd1ba",
   "metadata": {},
   "outputs": [],
   "source": [
    "x3_train=x_train.copy()\n",
    "x3_val=x_val.copy()"
   ]
  },
  {
   "cell_type": "code",
   "execution_count": 68,
   "id": "37f4df76",
   "metadata": {},
   "outputs": [
    {
     "name": "stdout",
     "output_type": "stream",
     "text": [
      "Fitting 5 folds for each of 8 candidates, totalling 40 fits\n",
      "DecisionTreeClassifier(criterion='entropy', max_depth=6, random_state=42)\n"
     ]
    }
   ],
   "source": [
    "# finding the best parameters for the decision tree\n",
    "param_grid = {'criterion' :['gini', 'entropy'],'max_depth': [4, 6, 10, 12]}\n",
    "\n",
    "tree_clas = DecisionTreeClassifier(random_state=42)\n",
    "grid_search = GridSearchCV(estimator=tree_clas, param_grid=param_grid, cv=5, verbose=True)\n",
    "grid_search.fit(x3_train, y_train)\n",
    "\n",
    "print(grid_search.best_estimator_)"
   ]
  },
  {
   "cell_type": "code",
   "execution_count": 69,
   "id": "9c892a8d",
   "metadata": {},
   "outputs": [
    {
     "data": {
      "text/plain": [
       "DecisionTreeClassifier(criterion='entropy', max_depth=6, random_state=42)"
      ]
     },
     "execution_count": 69,
     "metadata": {},
     "output_type": "execute_result"
    }
   ],
   "source": [
    "Dt_final = grid_search.best_estimator_\n",
    "Dt_final"
   ]
  },
  {
   "cell_type": "code",
   "execution_count": 70,
   "id": "28681426",
   "metadata": {},
   "outputs": [
    {
     "name": "stdout",
     "output_type": "stream",
     "text": [
      "Training Score In Decision Tree Classification: 0.8475870777001017\n",
      "Validation Score In Decision Tree: Classification 0.8490970459976841\n",
      "DT Accuracy= 0.8490970459976841\n",
      "DT F1 score= 0.275233700153828\n"
     ]
    }
   ],
   "source": [
    "# trying with entropy, since it didn't show in the previose step\n",
    "tree = DecisionTreeClassifier(criterion='entropy',\n",
    "                                     max_depth=6,\n",
    "                                     max_features='auto',\n",
    "                                     random_state=42)\n",
    "\n",
    "tree.fit(x3_train,y_train)\n",
    "\n",
    "print(\"Training Score In Decision Tree Classification:\",tree.score(x3_train, y_train))\n",
    "print(\"Validation Score In Decision Tree: Classification\",tree.score(x2_val, y_val))\n",
    "y_traing_pred = tree.predict(x3_train)\n",
    "\n",
    "y_pred = tree.predict(x3_val)\n",
    "\n",
    "print(\"DT Accuracy=\",accuracy_score(y_val, y_pred))\n",
    "print(\"DT F1 score=\",f1_score(y_val, y_pred))"
   ]
  },
  {
   "cell_type": "code",
   "execution_count": 71,
   "id": "e28ce52f",
   "metadata": {},
   "outputs": [],
   "source": [
    "Training_models_evalutions['TrainigSet_Models'].append(\"Decision Tree Classification\")\n",
    "Training_models_evalutions['Accuracy'].append(accuracy_score(y_train, y_traing_pred))\n",
    "Training_models_evalutions['Precision'].append(precision_score(y_train, y_traing_pred))\n",
    "Training_models_evalutions['Recall'].append(recall_score(y_train, y_traing_pred))\n",
    "Training_models_evalutions['F1 score'].append(f1_score(y_train, y_traing_pred))"
   ]
  },
  {
   "cell_type": "code",
   "execution_count": 72,
   "id": "60b027cb",
   "metadata": {
    "scrolled": true
   },
   "outputs": [],
   "source": [
    "Validation_models_evalutions['ValidationSet_Models'].append(\"Decision Tree Classification\")\n",
    "Validation_models_evalutions['Accuracy'].append(accuracy_score(y_val, y_pred))\n",
    "Validation_models_evalutions['Precision'].append(precision_score(y_val, y_pred))\n",
    "Validation_models_evalutions['Recall'].append(recall_score(y_val, y_pred))\n",
    "Validation_models_evalutions['F1 score'].append(f1_score(y_val, y_pred))"
   ]
  },
  {
   "cell_type": "code",
   "execution_count": 73,
   "id": "3fed7573",
   "metadata": {},
   "outputs": [
    {
     "data": {
      "image/png": "[encoded data removed]",
      "text/plain": [
       "<Figure size 432x288 with 2 Axes>"
      ]
     },
     "metadata": {
      "needs_background": "light"
     },
     "output_type": "display_data"
    }
   ],
   "source": [
    "# plotting confusion mtrix\n",
    "cm = confusion_matrix(y_val, y_pred)\n",
    "class_label = [\"No-Diabetes\", \"Diabetes\"]\n",
    "df_cm = pd.DataFrame(cm, index = class_label, columns = class_label)\n",
    "sns.heatmap(df_cm, annot = True, fmt = \"d\", cmap='Blues')\n",
    "plt.title('Confusion matrix for Decision Tree classification', fontsize = 20); # title with fontsize 20"
   ]
  },
  {
   "cell_type": "markdown",
   "id": "ziDHbuaZ7NPH",
   "metadata": {
    "id": "ziDHbuaZ7NPH"
   },
   "source": [
    "# Expreiment 4: Random Forest Classification "
   ]
  },
  {
   "cell_type": "code",
   "execution_count": 74,
   "id": "26eab2db",
   "metadata": {},
   "outputs": [],
   "source": [
    "x4_train=x_train.copy()\n",
    "x4_val=x_val.copy()"
   ]
  },
  {
   "cell_type": "code",
   "execution_count": 75,
   "id": "9303b7e2",
   "metadata": {},
   "outputs": [],
   "source": [
    "params = {\n",
    "    'n_estimators': [50, 100],\n",
    "    'max_depth': [4, 6, 10, 12],\n",
    "    'random_state': [13]\n",
    "}"
   ]
  },
  {
   "cell_type": "code",
   "execution_count": 76,
   "id": "9fBQ2MumAWEV",
   "metadata": {
    "id": "9fBQ2MumAWEV"
   },
   "outputs": [],
   "source": [
    "#kf = KFold(n_splits=5, random_state=42, shuffle=False)\n",
    "example_params = {\n",
    "        'n_estimators': 50,\n",
    "        'max_depth':4 ,\n",
    "        'random_state': 13\n",
    "    }\n",
    "    "
   ]
  },
  {
   "cell_type": "code",
   "execution_count": 77,
   "id": "ec52a85c",
   "metadata": {
    "scrolled": false
   },
   "outputs": [
    {
     "data": {
      "text/plain": [
       "array([0.78802624, 0.79486311, 0.79129069, 0.78941209, 0.78959687])"
      ]
     },
     "execution_count": 77,
     "metadata": {},
     "output_type": "execute_result"
    }
   ],
   "source": [
    "imba_pipeline = make_pipeline(SMOTE(random_state=42),RandomForestClassifier(n_estimators=5, random_state=13))\n",
    "cross_val_score(imba_pipeline, x4_train, y_train, cv=kf)"
   ]
  },
  {
   "cell_type": "code",
   "execution_count": 78,
   "id": "f8fe6b6e",
   "metadata": {
    "scrolled": true
   },
   "outputs": [
    {
     "data": {
      "text/plain": [
       "GridSearchCV(cv=KFold(n_splits=5, random_state=42, shuffle=True),\n",
       "             estimator=Pipeline(steps=[('smote', SMOTE(random_state=42)),\n",
       "                                       ('randomforestclassifier',\n",
       "                                        RandomForestClassifier(n_estimators=5,\n",
       "                                                               random_state=13))]),\n",
       "             param_grid={'randomforestclassifier__max_depth': [4, 6, 10, 12],\n",
       "                         'randomforestclassifier__n_estimators': [50, 100],\n",
       "                         'randomforestclassifier__random_state': [13]},\n",
       "             return_train_score=True)"
      ]
     },
     "execution_count": 78,
     "metadata": {},
     "output_type": "execute_result"
    }
   ],
   "source": [
    "new_params = {'randomforestclassifier__' + key: params[key] for key in params}\n",
    "grid_imba = GridSearchCV(imba_pipeline, param_grid=new_params, cv=kf,return_train_score=True)\n",
    "grid_imba.fit(x4_train, y_train)"
   ]
  },
  {
   "cell_type": "code",
   "execution_count": 79,
   "id": "1c8320c4",
   "metadata": {},
   "outputs": [
    {
     "name": "stdout",
     "output_type": "stream",
     "text": [
      "Training Score In Random Forest Classification: 0.7722213667580302\n",
      "Validation Score In Random Forest Classification: 0.7596639483603932\n"
     ]
    }
   ],
   "source": [
    "print(\"Training Score In Random Forest Classification:\",grid_imba.score(x4_train, y_train))\n",
    "print(\"Validation Score In Random Forest Classification:\",grid_imba.score(x4_val, y_val))"
   ]
  },
  {
   "cell_type": "code",
   "execution_count": 80,
   "id": "e60870e7",
   "metadata": {},
   "outputs": [
    {
     "data": {
      "text/plain": [
       "{'randomforestclassifier__max_depth': 12,\n",
       " 'randomforestclassifier__n_estimators': 100,\n",
       " 'randomforestclassifier__random_state': 13}"
      ]
     },
     "execution_count": 80,
     "metadata": {},
     "output_type": "execute_result"
    }
   ],
   "source": [
    "rf_best=grid_imba.best_params_\n",
    "rf_best"
   ]
  },
  {
   "cell_type": "code",
   "execution_count": 81,
   "id": "5b149d11",
   "metadata": {},
   "outputs": [],
   "source": [
    "# Random Forest with best hyperparameter\n",
    "rf_best = RandomForestClassifier(n_estimators=100,\n",
    "                                 max_depth=12,\n",
    "                                 random_state=13)\n",
    "rf_best.fit(x4_train, y_train)\n",
    "\n",
    "y_traing_pred = rf_best.predict(x4_train)\n",
    "\n",
    "y_pred = rf_best.predict(x4_val)\n"
   ]
  },
  {
   "cell_type": "code",
   "execution_count": 82,
   "id": "4a9c5bbb",
   "metadata": {},
   "outputs": [
    {
     "name": "stdout",
     "output_type": "stream",
     "text": [
      "Training Score In Random Forest Classification with best parameters: 0.8622401527516861\n",
      "Validation Score In Random Forest Classification:with best parameters 0.8518810515164207\n"
     ]
    }
   ],
   "source": [
    "print(\"Training Score In Random Forest Classification with best parameters:\",rf_best.score(x4_train, y_train))\n",
    "print(\"Validation Score In Random Forest Classification:with best parameters\",rf_best.score(x4_val, y_val))"
   ]
  },
  {
   "cell_type": "code",
   "execution_count": 83,
   "id": "a976b4d0",
   "metadata": {},
   "outputs": [],
   "source": [
    "Training_models_evalutions['TrainigSet_Models'].append('RandomForestClassifier')\n",
    "Training_models_evalutions['Accuracy'].append(accuracy_score(y_train, y_traing_pred))\n",
    "Training_models_evalutions['Precision'].append(precision_score(y_train, y_traing_pred))\n",
    "Training_models_evalutions['Recall'].append(recall_score(y_train, y_traing_pred))\n",
    "Training_models_evalutions['F1 score'].append(f1_score(y_train, y_traing_pred))"
   ]
  },
  {
   "cell_type": "code",
   "execution_count": 84,
   "id": "1a60a85f",
   "metadata": {},
   "outputs": [],
   "source": [
    "Validation_models_evalutions['ValidationSet_Models'].append(\"RandomForestClassifier\")\n",
    "Validation_models_evalutions['Accuracy'].append(accuracy_score(y_val, y_pred))\n",
    "Validation_models_evalutions['Precision'].append(precision_score(y_val, y_pred))\n",
    "Validation_models_evalutions['Recall'].append(recall_score(y_val, y_pred))\n",
    "Validation_models_evalutions['F1 score'].append(f1_score(y_val, y_pred))"
   ]
  },
  {
   "cell_type": "code",
   "execution_count": 85,
   "id": "342f0ac0",
   "metadata": {},
   "outputs": [
    {
     "data": {
      "image/png": "[encoded data removed]",
      "text/plain": [
       "<Figure size 432x288 with 2 Axes>"
      ]
     },
     "metadata": {
      "needs_background": "light"
     },
     "output_type": "display_data"
    }
   ],
   "source": [
    "# plotting confusion mtrix\n",
    "cm = confusion_matrix(y_val, y_pred)\n",
    "class_label = [\"No-Diabetes\", \"Diabetes\"]\n",
    "df_cm = pd.DataFrame(cm, index = class_label, columns = class_label)\n",
    "sns.heatmap(df_cm, annot = True, fmt = \"d\", cmap='Blues');\n",
    "plt.title('Confusion matrix for Random Forest classification with best parameters', fontsize = 20); # title with fontsize 20"
   ]
  },
  {
   "cell_type": "markdown",
   "id": "9e058bb9",
   "metadata": {},
   "source": [
    "# Experiment 5-1: Ensembling with Voting"
   ]
  },
  {
   "cell_type": "code",
   "execution_count": 86,
   "id": "ad0dffc3",
   "metadata": {},
   "outputs": [],
   "source": [
    "x5_train=x_train.copy()\n",
    "x5_val=x_val.copy()"
   ]
  },
  {
   "cell_type": "code",
   "execution_count": 87,
   "id": "7c6b921d",
   "metadata": {},
   "outputs": [],
   "source": [
    "model_names = [\"rf_best\",\"Dt_final\"]\n",
    "\n",
    "model_vars = [eval(n) for n in model_names]\n",
    "model_list = list(zip(model_names, model_vars))"
   ]
  },
  {
   "cell_type": "code",
   "execution_count": 88,
   "id": "9cea7708",
   "metadata": {},
   "outputs": [
    {
     "data": {
      "text/plain": [
       "['rf_best', 'Dt_final']"
      ]
     },
     "execution_count": 88,
     "metadata": {},
     "output_type": "execute_result"
    }
   ],
   "source": [
    "model_names"
   ]
  },
  {
   "cell_type": "code",
   "execution_count": 89,
   "id": "ffb6e411",
   "metadata": {},
   "outputs": [
    {
     "data": {
      "text/plain": [
       "[('rf_best', RandomForestClassifier(max_depth=12, random_state=13)),\n",
       " ('Dt_final',\n",
       "  DecisionTreeClassifier(criterion='entropy', max_depth=6, random_state=42))]"
      ]
     },
     "execution_count": 89,
     "metadata": {},
     "output_type": "execute_result"
    }
   ],
   "source": [
    "model_list"
   ]
  },
  {
   "cell_type": "code",
   "execution_count": 90,
   "id": "9ee0bf71",
   "metadata": {},
   "outputs": [
    {
     "name": "stdout",
     "output_type": "stream",
     "text": [
      "rf_best score: 0.8518810515164207\n",
      "Dt_final score: 0.8494173298184237\n"
     ]
    }
   ],
   "source": [
    "for model_name in model_names:\n",
    "    curr_model = eval(model_name)\n",
    "    print(f'{model_name} score: {curr_model.score(x5_val, y_val)}')"
   ]
  },
  {
   "cell_type": "code",
   "execution_count": 91,
   "id": "741f2c28",
   "metadata": {
    "colab": {
     "base_uri": "https://localhost:8080/"
    },
    "id": "741f2c28",
    "outputId": "e104bdae-8534-4992-babc-d8fabc3cb409",
    "scrolled": true
   },
   "outputs": [
    {
     "data": {
      "text/plain": [
       "VotingClassifier(estimators=[('rf_best',\n",
       "                              RandomForestClassifier(max_depth=12,\n",
       "                                                     random_state=13)),\n",
       "                             ('Dt_final',\n",
       "                              DecisionTreeClassifier(criterion='entropy',\n",
       "                                                     max_depth=6,\n",
       "                                                     random_state=42))],\n",
       "                 n_jobs=-1)"
      ]
     },
     "execution_count": 91,
     "metadata": {},
     "output_type": "execute_result"
    }
   ],
   "source": [
    "# create voting classifier\n",
    "voting_classifer = VotingClassifier(estimators=model_list,voting='hard', n_jobs=-1)\n",
    "voting_classifer.fit(x5_train, y_train)"
   ]
  },
  {
   "cell_type": "code",
   "execution_count": 92,
   "id": "20702161",
   "metadata": {
    "colab": {
     "base_uri": "https://localhost:8080/"
    },
    "id": "20702161",
    "outputId": "a76cc5ad-b735-4dec-d5a8-d936be1e382a"
   },
   "outputs": [],
   "source": [
    "# get accuracy (model to beat: RF with 0.8136 accuracy)\n",
    "y_traing_pred=voting_classifer.predict(x5_train)\n",
    "y_pred = voting_classifer.predict(x5_val)"
   ]
  },
  {
   "cell_type": "code",
   "execution_count": 93,
   "id": "8ec63ed9",
   "metadata": {},
   "outputs": [
    {
     "name": "stdout",
     "output_type": "stream",
     "text": [
      "Training Score In Hard Voting and select the best model scores(DT& RF)) 0.8518678205167688\n",
      "Training Score In HRD Voting and select the best model scores(DT& RF)) 0.8501318091108429\n"
     ]
    }
   ],
   "source": [
    "print(\"Training Score In Hard Voting and select the best model scores(DT& RF))\",voting_classifer.score(x5_train, y_train))\n",
    "print(\"Training Score In HRD Voting and select the best model scores(DT& RF))\",voting_classifer.score(x5_val, y_val))"
   ]
  },
  {
   "cell_type": "code",
   "execution_count": 94,
   "id": "a2545f62",
   "metadata": {},
   "outputs": [],
   "source": [
    "Training_models_evalutions['TrainigSet_Models'].append(\"VotingClassifier-Hard\")\n",
    "Training_models_evalutions['Accuracy'].append(accuracy_score(y_train, y_traing_pred))\n",
    "Training_models_evalutions['Precision'].append(precision_score(y_train, y_traing_pred))\n",
    "Training_models_evalutions['Recall'].append(recall_score(y_train, y_traing_pred))\n",
    "Training_models_evalutions['F1 score'].append(f1_score(y_train, y_traing_pred))"
   ]
  },
  {
   "cell_type": "code",
   "execution_count": 95,
   "id": "57466e8b",
   "metadata": {},
   "outputs": [],
   "source": [
    "Validation_models_evalutions['ValidationSet_Models'].append(\"VotingClassifier-Hard\")\n",
    "Validation_models_evalutions['Accuracy'].append(accuracy_score(y_val, y_pred))\n",
    "Validation_models_evalutions['Precision'].append(precision_score(y_val, y_pred))\n",
    "Validation_models_evalutions['Recall'].append(recall_score(y_val, y_pred))\n",
    "Validation_models_evalutions['F1 score'].append(f1_score(y_val, y_pred))"
   ]
  },
  {
   "cell_type": "code",
   "execution_count": 96,
   "id": "55f49d9b",
   "metadata": {},
   "outputs": [
    {
     "data": {
      "image/png": "[encoded data removed]",
      "text/plain": [
       "<Figure size 432x288 with 2 Axes>"
      ]
     },
     "metadata": {
      "needs_background": "light"
     },
     "output_type": "display_data"
    }
   ],
   "source": [
    "# plotting confusion mtrix\n",
    "cm = confusion_matrix(y_val, y_pred)\n",
    "class_label = [\"No-Diabetes\", \"Diabetes\"]\n",
    "df_cm = pd.DataFrame(cm, index = class_label, columns = class_label)\n",
    "sns.heatmap(df_cm, annot = True, fmt = \"d\", cmap='Blues')\n",
    "plt.title('Confusion matrix for Voting', fontsize = 20); # title with fontsize 20"
   ]
  },
  {
   "cell_type": "markdown",
   "id": "f2fd3abf",
   "metadata": {
    "id": "f2fd3abf"
   },
   "source": [
    "# Experiment 5-2: Ensembling with Average Voting"
   ]
  },
  {
   "cell_type": "code",
   "execution_count": 97,
   "id": "811b1bb1",
   "metadata": {},
   "outputs": [],
   "source": [
    "x7_train=x_train.copy()\n",
    "x7_val=x_val.copy()"
   ]
  },
  {
   "cell_type": "code",
   "execution_count": 98,
   "id": "36be3d29",
   "metadata": {
    "colab": {
     "base_uri": "https://localhost:8080/"
    },
    "id": "36be3d29",
    "outputId": "1cd5d116-688a-44b3-e795-5045f7253bbd"
   },
   "outputs": [
    {
     "data": {
      "text/plain": [
       "VotingClassifier(estimators=[('rf_best',\n",
       "                              RandomForestClassifier(max_depth=12,\n",
       "                                                     random_state=13)),\n",
       "                             ('Dt_final',\n",
       "                              DecisionTreeClassifier(criterion='entropy',\n",
       "                                                     max_depth=6,\n",
       "                                                     random_state=42))],\n",
       "                 n_jobs=-1, voting='soft')"
      ]
     },
     "execution_count": 98,
     "metadata": {},
     "output_type": "execute_result"
    }
   ],
   "source": [
    "# create voting classifier\n",
    "voting_classifer = VotingClassifier(estimators=model_list,voting='soft', n_jobs=-1)\n",
    "voting_classifer.fit(x7_train, y_train)"
   ]
  },
  {
   "cell_type": "code",
   "execution_count": 99,
   "id": "bfea3965",
   "metadata": {},
   "outputs": [
    {
     "name": "stdout",
     "output_type": "stream",
     "text": [
      "Training Score In Average Voting and select the best model scores(DT& RF)) 0.8542145298882079\n",
      "Training Score In Avaerage Voting and select the best model scores(DT& RF)) 0.8508462884032619\n"
     ]
    }
   ],
   "source": [
    "print(\"Training Score In Average Voting and select the best model scores(DT& RF))\",voting_classifer.score(x7_train, y_train))\n",
    "print(\"Training Score In Avaerage Voting and select the best model scores(DT& RF))\",voting_classifer.score(x7_val, y_val))"
   ]
  },
  {
   "cell_type": "code",
   "execution_count": 100,
   "id": "138939f1",
   "metadata": {
    "colab": {
     "base_uri": "https://localhost:8080/"
    },
    "id": "138939f1",
    "outputId": "ad6bcb97-ec56-4fad-ebf8-9332f3e21c98"
   },
   "outputs": [],
   "source": [
    "# Get accuracy (model to beat: RF with 0.8136 accuracy)\n",
    "y_traing_pred=voting_classifer.predict(x7_train)\n",
    "y_pred = voting_classifer.predict(x7_val)"
   ]
  },
  {
   "cell_type": "code",
   "execution_count": 101,
   "id": "b5c96858",
   "metadata": {},
   "outputs": [],
   "source": [
    "Training_models_evalutions['TrainigSet_Models'].append(\"VotingClassifier-Average Voting\")\n",
    "Training_models_evalutions['Accuracy'].append(accuracy_score(y_train, y_traing_pred))\n",
    "Training_models_evalutions['Precision'].append(precision_score(y_train, y_traing_pred))\n",
    "Training_models_evalutions['Recall'].append(recall_score(y_train, y_traing_pred))\n",
    "Training_models_evalutions['F1 score'].append(f1_score(y_train, y_traing_pred))"
   ]
  },
  {
   "cell_type": "code",
   "execution_count": 102,
   "id": "9a128467",
   "metadata": {},
   "outputs": [],
   "source": [
    "Validation_models_evalutions['ValidationSet_Models'].append(\"VotingClassifier-Average Voting\")\n",
    "Validation_models_evalutions['Accuracy'].append(accuracy_score(y_val, y_pred))\n",
    "Validation_models_evalutions['Precision'].append(precision_score(y_val, y_pred))\n",
    "Validation_models_evalutions['Recall'].append(recall_score(y_val, y_pred))\n",
    "Validation_models_evalutions['F1 score'].append(f1_score(y_val, y_pred))"
   ]
  },
  {
   "cell_type": "code",
   "execution_count": 103,
   "id": "c892ef8c",
   "metadata": {},
   "outputs": [
    {
     "data": {
      "image/png": "[encoded data removed]",
      "text/plain": [
       "<Figure size 432x288 with 2 Axes>"
      ]
     },
     "metadata": {
      "needs_background": "light"
     },
     "output_type": "display_data"
    }
   ],
   "source": [
    "# plotting confusion mtrix\n",
    "cm = confusion_matrix(y_val, y_pred)\n",
    "class_label = [\"No-Diabetes\", \"Diabetes\"]\n",
    "df_cm = pd.DataFrame(cm, index = class_label, columns = class_label)\n",
    "sns.heatmap(df_cm, annot = True, fmt = \"d\", cmap='Blues')\n",
    "plt.title('Confusion matrix for Avarege Voting', fontsize = 20); # title with fontsize 20"
   ]
  },
  {
   "cell_type": "markdown",
   "id": "c28ffeb1",
   "metadata": {
    "id": "c28ffeb1"
   },
   "source": [
    "# Experiment 5-3: Ensembling with Weighted Voting"
   ]
  },
  {
   "cell_type": "code",
   "execution_count": 104,
   "id": "8f7da774",
   "metadata": {},
   "outputs": [],
   "source": [
    "x8_train=x_train.copy()\n",
    "x8_val=x_val.copy()"
   ]
  },
  {
   "cell_type": "code",
   "execution_count": 105,
   "id": "b001ff0e",
   "metadata": {
    "colab": {
     "base_uri": "https://localhost:8080/"
    },
    "id": "b001ff0e",
    "outputId": "c4d1519f-6044-4a9e-96ca-b22b98e57af4"
   },
   "outputs": [
    {
     "data": {
      "text/plain": [
       "VotingClassifier(estimators=[('rf_best',\n",
       "                              RandomForestClassifier(max_depth=12,\n",
       "                                                     random_state=13)),\n",
       "                             ('Dt_final',\n",
       "                              DecisionTreeClassifier(criterion='entropy',\n",
       "                                                     max_depth=6,\n",
       "                                                     random_state=42))],\n",
       "                 n_jobs=-1, voting='soft', weights=[1.5, 3.8])"
      ]
     },
     "execution_count": 105,
     "metadata": {},
     "output_type": "execute_result"
    }
   ],
   "source": [
    "# create voting classifier\n",
    "weights = [1.5,3.8]\n",
    "voting_model = VotingClassifier(estimators=model_list, voting='soft', weights = weights, n_jobs=-1)\n",
    "voting_model.fit(x8_train, y_train)"
   ]
  },
  {
   "cell_type": "code",
   "execution_count": 106,
   "id": "3dec0307",
   "metadata": {
    "colab": {
     "base_uri": "https://localhost:8080/"
    },
    "id": "3dec0307",
    "outputId": "8e616537-9498-4832-92f6-23dbbab06e35"
   },
   "outputs": [],
   "source": [
    "# Get accuracy (model to beat: RF with 0.8136 accuracy)\n",
    "y_traing_pred= voting_model.predict(x8_train)\n",
    "y_pred = voting_model.predict(x8_val)"
   ]
  },
  {
   "cell_type": "code",
   "execution_count": 107,
   "id": "a227e372",
   "metadata": {},
   "outputs": [
    {
     "name": "stdout",
     "output_type": "stream",
     "text": [
      "Training Score In Weighted Voting and select the best model scores(DT& RF)) 0.8509192818207015\n",
      "Training Score In Weighted Voting and select the best model scores(DT& RF)) 0.850008623025943\n"
     ]
    }
   ],
   "source": [
    "print(\"Training Score In Weighted Voting and select the best model scores(DT& RF))\",voting_model.score(x7_train, y_train))\n",
    "print(\"Training Score In Weighted Voting and select the best model scores(DT& RF))\",voting_model.score(x7_val, y_val))"
   ]
  },
  {
   "cell_type": "code",
   "execution_count": 108,
   "id": "037ee6b9",
   "metadata": {},
   "outputs": [],
   "source": [
    "Training_models_evalutions['TrainigSet_Models'].append(\"VotingClassifier-Weighted Voting\")\n",
    "Training_models_evalutions['Accuracy'].append(accuracy_score(y_train, y_traing_pred))\n",
    "Training_models_evalutions['Precision'].append(precision_score(y_train, y_traing_pred))\n",
    "Training_models_evalutions['Recall'].append(recall_score(y_train, y_traing_pred))\n",
    "Training_models_evalutions['F1 score'].append(f1_score(y_train, y_traing_pred))"
   ]
  },
  {
   "cell_type": "code",
   "execution_count": 109,
   "id": "43e782e6",
   "metadata": {},
   "outputs": [],
   "source": [
    "Validation_models_evalutions['ValidationSet_Models'].append(\"VotingClassifier-Weighted Voting\")\n",
    "Validation_models_evalutions['Accuracy'].append(accuracy_score(y_val, y_pred))\n",
    "Validation_models_evalutions['Precision'].append(precision_score(y_val, y_pred))\n",
    "Validation_models_evalutions['Recall'].append(recall_score(y_val, y_pred))\n",
    "Validation_models_evalutions['F1 score'].append(f1_score(y_val, y_pred))"
   ]
  },
  {
   "cell_type": "code",
   "execution_count": 110,
   "id": "ab9fdf22",
   "metadata": {
    "scrolled": true
   },
   "outputs": [
    {
     "data": {
      "image/png": "[encoded data removed]",
      "text/plain": [
       "<Figure size 432x288 with 2 Axes>"
      ]
     },
     "metadata": {
      "needs_background": "light"
     },
     "output_type": "display_data"
    }
   ],
   "source": [
    "# plotting confusion mtrix\n",
    "cm = confusion_matrix(y_val, y_pred)\n",
    "class_label = [\"No-Diabetes\", \"Diabetes\"]\n",
    "df_cm = pd.DataFrame(cm, index = class_label, columns = class_label)\n",
    "sns.heatmap(df_cm, annot = True, fmt = \"d\", cmap='Blues')\n",
    "plt.title('Confusion matrix for Wieghted Voting', fontsize = 20); # title with fontsize 20"
   ]
  },
  {
   "cell_type": "markdown",
   "id": "6df98b63",
   "metadata": {},
   "source": [
    "# Experiment 6: XGBReegressor Classification"
   ]
  },
  {
   "cell_type": "code",
   "execution_count": 111,
   "id": "398eb077",
   "metadata": {},
   "outputs": [],
   "source": [
    "x11_train=X_tr_smt.copy()\n",
    "y_train=y_tr_smt.copy()\n",
    "x11_val=x_val.copy()"
   ]
  },
  {
   "cell_type": "code",
   "execution_count": 112,
   "id": "765aae0d",
   "metadata": {},
   "outputs": [],
   "source": [
    "import xgboost\n",
    "from sklearn.model_selection import RandomizedSearchCV\n"
   ]
  },
  {
   "cell_type": "code",
   "execution_count": 113,
   "id": "44ce1d65",
   "metadata": {},
   "outputs": [
    {
     "name": "stdout",
     "output_type": "stream",
     "text": [
      "Fitting 5 folds for each of 25 candidates, totalling 125 fits\n"
     ]
    },
    {
     "data": {
      "text/plain": [
       "{'subsample': 0.5,\n",
       " 'objective': 'binary:logistic',\n",
       " 'n_estimators': 100,\n",
       " 'max_depth': 15,\n",
       " 'learning_rate': 0.01,\n",
       " 'colsample_bytree': 0.7999999999999999,\n",
       " 'colsample_bylevel': 0.5}"
      ]
     },
     "execution_count": 113,
     "metadata": {},
     "output_type": "execute_result"
    }
   ],
   "source": [
    "params = { 'max_depth': [3, 6, 10, 15, 20],\n",
    "           'learning_rate': [0.01, 0.1, 0.2, 0.3],\n",
    "           'subsample': np.arange(0.5, 1.0, 0.1),\n",
    "           'colsample_bytree': np.arange(0.4, 1.0, 0.1),\n",
    "           'colsample_bylevel': np.arange(0.4, 1.0, 0.1),\n",
    "           'n_estimators': [50,100],\n",
    "         'objective': ['binary:logistic']}\n",
    "\n",
    "xgbc = xgboost.XGBClassifier(seed = 20)\n",
    "\n",
    "rs = RandomizedSearchCV(estimator=xgbc, \n",
    "                   param_distributions=params,\n",
    "                   cv = 5,\n",
    "                   scoring='f1', \n",
    "                   verbose=1,\n",
    "                   n_iter=25)\n",
    "\n",
    "rs.fit(x11_train, y_train, eval_metric= 'logloss')\n",
    "rs.best_params_"
   ]
  },
  {
   "cell_type": "code",
   "execution_count": 114,
   "id": "56290028",
   "metadata": {},
   "outputs": [
    {
     "name": "stdout",
     "output_type": "stream",
     "text": [
      "xgbc Accuracy= 0.8037645667545394\n",
      "xgbc F1 score= 0.46846846846846846\n"
     ]
    }
   ],
   "source": [
    "xgbc = xgboost.XGBClassifier(subsample=0.8,\n",
    "                         objective='binary:logistic',\n",
    "                         n_estimators=100,\n",
    "                         max_depth=15,\n",
    "                        learning_rate=0.01,\n",
    "                        colsample_bytree=0.8,\n",
    "                        colsample_bylevel=0.6\n",
    "                        )\n",
    "\n",
    "xgbc.fit(x11_train,y_train,eval_metric= 'logloss')\n",
    "\n",
    "y_traing_pred = xgbc.predict(x11_train)\n",
    "\n",
    "y_pred = xgbc.predict(x11_val)\n",
    "\n",
    "print(\"xgbc Accuracy=\",accuracy_score(y_val, y_pred))\n",
    "print(\"xgbc F1 score=\",f1_score(y_val, y_pred))"
   ]
  },
  {
   "cell_type": "code",
   "execution_count": 115,
   "id": "1d725cc8",
   "metadata": {},
   "outputs": [],
   "source": [
    "Training_models_evalutions['TrainigSet_Models'].append(\"XGBReegressor\")\n",
    "Training_models_evalutions['Accuracy'].append(accuracy_score(y_train, y_traing_pred))\n",
    "Training_models_evalutions['Precision'].append(precision_score(y_train, y_traing_pred))\n",
    "Training_models_evalutions['Recall'].append(recall_score(y_train, y_traing_pred))\n",
    "Training_models_evalutions['F1 score'].append(f1_score(y_train, y_traing_pred))"
   ]
  },
  {
   "cell_type": "code",
   "execution_count": 116,
   "id": "8f96854e",
   "metadata": {},
   "outputs": [],
   "source": [
    "Validation_models_evalutions['ValidationSet_Models'].append(\"XGBReegressor\")\n",
    "Validation_models_evalutions['Accuracy'].append(accuracy_score(y_val, y_pred))\n",
    "Validation_models_evalutions['Recall'].append(recall_score(y_val, y_pred))\n",
    "Validation_models_evalutions['Precision'].append(precision_score(y_val, y_pred))\n",
    "Validation_models_evalutions['F1 score'].append(f1_score(y_val, y_pred))"
   ]
  },
  {
   "cell_type": "code",
   "execution_count": 117,
   "id": "6963b261",
   "metadata": {},
   "outputs": [
    {
     "data": {
      "text/plain": [
       "<AxesSubplot:>"
      ]
     },
     "execution_count": 117,
     "metadata": {},
     "output_type": "execute_result"
    },
    {
     "data": {
      "image/png": "[encoded data removed]",
      "text/plain": [
       "<Figure size 432x288 with 2 Axes>"
      ]
     },
     "metadata": {
      "needs_background": "light"
     },
     "output_type": "display_data"
    }
   ],
   "source": [
    "# plotting confusion mtrix\n",
    "cm = confusion_matrix(y_val, y_pred)\n",
    "class_label = [\"No-Diabetes\", \"Diabetes\"]\n",
    "df_cm = pd.DataFrame(cm, index = class_label, columns = class_label)\n",
    "sns.heatmap(df_cm, annot = True, fmt = \"d\", cmap='Blues')"
   ]
  },
  {
   "cell_type": "markdown",
   "id": "24747b55",
   "metadata": {},
   "source": [
    "# Experiment 5-4: Ensembling with Stacking"
   ]
  },
  {
   "cell_type": "code",
   "execution_count": 118,
   "id": "3b522c6b",
   "metadata": {},
   "outputs": [],
   "source": [
    "x9_train=X_tr_smt.copy()\n",
    "y_train=y_tr_smt.copy()\n",
    "x9_val=x_val.copy()"
   ]
  },
  {
   "cell_type": "code",
   "execution_count": 119,
   "id": "49224153",
   "metadata": {},
   "outputs": [],
   "source": [
    "import xgboost\n",
    "\n",
    "from sklearn.svm import LinearSVC\n",
    "from sklearn.preprocessing import StandardScaler\n",
    "from sklearn.ensemble import StackingClassifier"
   ]
  },
  {
   "cell_type": "code",
   "execution_count": 121,
   "id": "df980a98",
   "metadata": {
    "scrolled": false
   },
   "outputs": [
    {
     "name": "stdout",
     "output_type": "stream",
     "text": [
      "[22:03:44] WARNING: C:/Users/Administrator/workspace/xgboost-win64_release_1.5.1/src/learner.cc:1115: Starting in XGBoost 1.3.0, the default evaluation metric used with the objective 'binary:logistic' was changed from 'error' to 'logloss'. Explicitly set eval_metric if you'd like to restore the old behavior.\n",
      "[22:05:28] WARNING: C:/Users/Administrator/workspace/xgboost-win64_release_1.5.1/src/learner.cc:1115: Starting in XGBoost 1.3.0, the default evaluation metric used with the objective 'binary:logistic' was changed from 'error' to 'logloss'. Explicitly set eval_metric if you'd like to restore the old behavior.\n",
      "[22:05:45] WARNING: C:/Users/Administrator/workspace/xgboost-win64_release_1.5.1/src/learner.cc:1115: Starting in XGBoost 1.3.0, the default evaluation metric used with the objective 'binary:logistic' was changed from 'error' to 'logloss'. Explicitly set eval_metric if you'd like to restore the old behavior.\n",
      "[22:06:01] WARNING: C:/Users/Administrator/workspace/xgboost-win64_release_1.5.1/src/learner.cc:1115: Starting in XGBoost 1.3.0, the default evaluation metric used with the objective 'binary:logistic' was changed from 'error' to 'logloss'. Explicitly set eval_metric if you'd like to restore the old behavior.\n",
      "[22:06:19] WARNING: C:/Users/Administrator/workspace/xgboost-win64_release_1.5.1/src/learner.cc:1115: Starting in XGBoost 1.3.0, the default evaluation metric used with the objective 'binary:logistic' was changed from 'error' to 'logloss'. Explicitly set eval_metric if you'd like to restore the old behavior.\n",
      "[22:06:38] WARNING: C:/Users/Administrator/workspace/xgboost-win64_release_1.5.1/src/learner.cc:1115: Starting in XGBoost 1.3.0, the default evaluation metric used with the objective 'binary:logistic' was changed from 'error' to 'logloss'. Explicitly set eval_metric if you'd like to restore the old behavior.\n",
      "SC Accuracy= 0.8099977826504718\n",
      "SC F1 score= 0.4568249049161853\n"
     ]
    }
   ],
   "source": [
    "estimators = [\n",
    "     ('rf', RandomForestClassifier(n_estimators=100,\n",
    "                                 max_features='sqrt',\n",
    "                                 max_depth=12,\n",
    "                                 bootstrap=True)),\n",
    "    ('xgb', xgboost.XGBClassifier(subsample=0.8,\n",
    "                         objective='binary:logistic',\n",
    "                         n_estimators=100,\n",
    "                         max_depth=15,\n",
    "                        learning_rate=0.01,\n",
    "                        colsample_bytree=0.8,\n",
    "                        colsample_bylevel=0.6\n",
    "                        ))\n",
    " ]\n",
    "clf = StackingClassifier(\n",
    "     estimators=estimators, final_estimator=LogisticRegression()\n",
    " )\n",
    "\n",
    "\n",
    "clf.fit(x9_train, y_train)\n",
    "\n",
    "y_traing_pred = clf.predict(x9_train)\n",
    "\n",
    "y_pred = clf.predict(x9_val)\n",
    "\n",
    "print(\"SC Accuracy=\",accuracy_score(y_val, y_pred))\n",
    "print(\"SC F1 score=\",f1_score(y_val, y_pred))"
   ]
  },
  {
   "cell_type": "code",
   "execution_count": 122,
   "id": "6b618515",
   "metadata": {},
   "outputs": [],
   "source": [
    "Training_models_evalutions['TrainigSet_Models'].append(\"StackingClassifier\")\n",
    "Training_models_evalutions['Accuracy'].append(accuracy_score(y_train, y_traing_pred))\n",
    "Training_models_evalutions['Precision'].append(precision_score(y_train, y_traing_pred))\n",
    "Training_models_evalutions['Recall'].append(recall_score(y_train, y_traing_pred))\n",
    "Training_models_evalutions['F1 score'].append(f1_score(y_train, y_traing_pred))"
   ]
  },
  {
   "cell_type": "code",
   "execution_count": 123,
   "id": "9507024f",
   "metadata": {},
   "outputs": [],
   "source": [
    "Validation_models_evalutions['ValidationSet_Models'].append(\"StackingClassifier\")\n",
    "Validation_models_evalutions['Accuracy'].append(accuracy_score(y_val, y_pred))\n",
    "Validation_models_evalutions['Precision'].append(precision_score(y_val, y_pred))\n",
    "Validation_models_evalutions['Recall'].append(recall_score(y_val, y_pred))\n",
    "Validation_models_evalutions['F1 score'].append(f1_score(y_val, y_pred))"
   ]
  },
  {
   "cell_type": "code",
   "execution_count": 124,
   "id": "8a6586d5",
   "metadata": {},
   "outputs": [
    {
     "data": {
      "image/png": "[encoded data removed]",
      "text/plain": [
       "<Figure size 432x288 with 2 Axes>"
      ]
     },
     "metadata": {
      "needs_background": "light"
     },
     "output_type": "display_data"
    }
   ],
   "source": [
    "# plotting confusion mtrix\n",
    "cm = confusion_matrix(y_val, y_pred)\n",
    "class_label = [\"No-Diabetes\", \"Diabetes\"]\n",
    "df_cm = pd.DataFrame(cm, index = class_label, columns = class_label)\n",
    "sns.heatmap(df_cm, annot = True, fmt = \"d\", cmap='Blues')\n",
    "plt.title('Confusion matrix for StackingClassifier', fontsize = 20); # title with fontsize 20"
   ]
  },
  {
   "cell_type": "markdown",
   "id": "1141d38c",
   "metadata": {},
   "source": [
    "# Excepriment 7:Gradient Boosting"
   ]
  },
  {
   "cell_type": "code",
   "execution_count": 125,
   "id": "297a8776",
   "metadata": {},
   "outputs": [],
   "source": [
    "#using a copy of (x_train and y_train) after balanced with Smote\n",
    "x10_train=X_tr_smt.copy()\n",
    "y_train=y_tr_smt.copy()\n",
    "x10_val=x_val.copy()"
   ]
  },
  {
   "cell_type": "code",
   "execution_count": 126,
   "id": "5ed2a720",
   "metadata": {},
   "outputs": [],
   "source": [
    "\n",
    "gbm_model1 = [\"knn_final\",\"rf_best\",\"Dt_final\"]\n",
    "\n",
    "model_vars1 = [eval(n) for n in gbm_model1]\n",
    "model_list = list(zip(gbm_model1, model_vars1))"
   ]
  },
  {
   "cell_type": "code",
   "execution_count": 128,
   "id": "945be99a",
   "metadata": {},
   "outputs": [
    {
     "name": "stdout",
     "output_type": "stream",
     "text": [
      "Fitting 10 folds for each of 24 candidates, totalling 240 fits\n"
     ]
    },
    {
     "data": {
      "text/plain": [
       "{'learning_rate': 0.1, 'max_depth': 10, 'n_estimators': 100, 'subsample': 0.8}"
      ]
     },
     "execution_count": 128,
     "metadata": {},
     "output_type": "execute_result"
    }
   ],
   "source": [
    "gbm_model = GradientBoostingClassifier()\n",
    "# Model Tuning\n",
    "gbm_params = {\"learning_rate\": [0.01, 0.1],\n",
    "               \"max_depth\": [10 , 1],\n",
    "               \"n_estimators\": [50,100],\n",
    "               \"subsample\": [1, 0.5, 0.8]}\n",
    "gbm_cv_model = GridSearchCV(gbm_model,\n",
    "                            gbm_params,\n",
    "                            cv=10,\n",
    "                            n_jobs=-1,\n",
    "                            verbose=2).fit(x10_train, y_train)\n",
    "gbm_cv_model.best_params_"
   ]
  },
  {
   "cell_type": "code",
   "execution_count": 129,
   "id": "d2b0bfee",
   "metadata": {},
   "outputs": [
    {
     "name": "stdout",
     "output_type": "stream",
     "text": [
      "SC Accuracy= 0.8099977826504718\n",
      "SC F1 score= 0.4568249049161853\n"
     ]
    }
   ],
   "source": [
    "# Final Model with best parameter\n",
    "gbm_tuned = GradientBoostingClassifier(**gbm_cv_model.best_params_).fit(x10_train,y_train)\n",
    "\n",
    "y_traing_pred = gbm_tuned.predict(x10_train)\n",
    "\n",
    "y_pred = clf.predict(x10_val)\n",
    "\n",
    "print(\"SC Accuracy=\",accuracy_score(y_val, y_pred))\n",
    "print(\"SC F1 score=\",f1_score(y_val, y_pred))"
   ]
  },
  {
   "cell_type": "code",
   "execution_count": 130,
   "id": "7a7604e4",
   "metadata": {},
   "outputs": [],
   "source": [
    "Training_models_evalutions['TrainigSet_Models'].append(\"GradientBoosting\")\n",
    "Training_models_evalutions['Accuracy'].append(accuracy_score(y_train, y_traing_pred))\n",
    "Training_models_evalutions['Precision'].append(precision_score(y_train, y_traing_pred))\n",
    "Training_models_evalutions['Recall'].append(recall_score(y_train, y_traing_pred))\n",
    "Training_models_evalutions['F1 score'].append(f1_score(y_train, y_traing_pred))"
   ]
  },
  {
   "cell_type": "code",
   "execution_count": 131,
   "id": "b1484179",
   "metadata": {},
   "outputs": [],
   "source": [
    "Validation_models_evalutions['ValidationSet_Models'].append(\"GradientBoosting\")\n",
    "Validation_models_evalutions['Accuracy'].append(accuracy_score(y_val, y_pred))\n",
    "Validation_models_evalutions['Precision'].append(precision_score(y_val, y_pred))\n",
    "Validation_models_evalutions['Recall'].append(recall_score(y_val, y_pred))\n",
    "Validation_models_evalutions['F1 score'].append(f1_score(y_val, y_pred))"
   ]
  },
  {
   "cell_type": "code",
   "execution_count": 132,
   "id": "bc966f65",
   "metadata": {},
   "outputs": [
    {
     "data": {
      "image/png": "[encoded data removed]",
      "text/plain": [
       "<Figure size 432x288 with 2 Axes>"
      ]
     },
     "metadata": {
      "needs_background": "light"
     },
     "output_type": "display_data"
    }
   ],
   "source": [
    "# plotting confusion mtrix\n",
    "cm = confusion_matrix(y_val, y_pred)\n",
    "class_label = [\"No-Diabetes\", \"Diabetes\"]\n",
    "df_cm = pd.DataFrame(cm, index = class_label, columns = class_label)\n",
    "sns.heatmap(df_cm, annot = True, fmt = \"d\", cmap='Blues')\n",
    "plt.title('Confusion matrix for GradientBoosting', fontsize = 20); # title with fontsize 20"
   ]
  },
  {
   "cell_type": "markdown",
   "id": "2615588a",
   "metadata": {},
   "source": [
    "# Conculsion"
   ]
  },
  {
   "cell_type": "code",
   "execution_count": 133,
   "id": "f4d79376",
   "metadata": {},
   "outputs": [
    {
     "data": {
      "text/html": [
       "<div>\n",
       "<style scoped>\n",
       "    .dataframe tbody tr th:only-of-type {\n",
       "        vertical-align: middle;\n",
       "    }\n",
       "\n",
       "    .dataframe tbody tr th {\n",
       "        vertical-align: top;\n",
       "    }\n",
       "\n",
       "    .dataframe thead th {\n",
       "        text-align: right;\n",
       "    }\n",
       "</style>\n",
       "<table border=\"1\" class=\"dataframe\">\n",
       "  <thead>\n",
       "    <tr style=\"text-align: right;\">\n",
       "      <th></th>\n",
       "      <th>TrainigSet_Models</th>\n",
       "      <th>Accuracy</th>\n",
       "      <th>Precision</th>\n",
       "      <th>Recall</th>\n",
       "      <th>F1 score</th>\n",
       "    </tr>\n",
       "  </thead>\n",
       "  <tbody>\n",
       "    <tr>\n",
       "      <th>0</th>\n",
       "      <td>K-nearest Neighbors Classification</td>\n",
       "      <td>0.857260</td>\n",
       "      <td>0.841225</td>\n",
       "      <td>0.880756</td>\n",
       "      <td>0.860537</td>\n",
       "    </tr>\n",
       "    <tr>\n",
       "      <th>1</th>\n",
       "      <td>LogisticRegression</td>\n",
       "      <td>0.741981</td>\n",
       "      <td>0.732876</td>\n",
       "      <td>0.761530</td>\n",
       "      <td>0.746928</td>\n",
       "    </tr>\n",
       "    <tr>\n",
       "      <th>2</th>\n",
       "      <td>Decision Tree Classification</td>\n",
       "      <td>0.847587</td>\n",
       "      <td>0.554224</td>\n",
       "      <td>0.180312</td>\n",
       "      <td>0.272099</td>\n",
       "    </tr>\n",
       "    <tr>\n",
       "      <th>3</th>\n",
       "      <td>RandomForestClassifier</td>\n",
       "      <td>0.862240</td>\n",
       "      <td>0.729522</td>\n",
       "      <td>0.203470</td>\n",
       "      <td>0.318193</td>\n",
       "    </tr>\n",
       "    <tr>\n",
       "      <th>4</th>\n",
       "      <td>VotingClassifier-Hard</td>\n",
       "      <td>0.851868</td>\n",
       "      <td>0.670867</td>\n",
       "      <td>0.122456</td>\n",
       "      <td>0.207108</td>\n",
       "    </tr>\n",
       "    <tr>\n",
       "      <th>5</th>\n",
       "      <td>VotingClassifier-Average Voting</td>\n",
       "      <td>0.854215</td>\n",
       "      <td>0.665331</td>\n",
       "      <td>0.155400</td>\n",
       "      <td>0.251952</td>\n",
       "    </tr>\n",
       "    <tr>\n",
       "      <th>6</th>\n",
       "      <td>VotingClassifier-Weighted Voting</td>\n",
       "      <td>0.850919</td>\n",
       "      <td>0.622667</td>\n",
       "      <td>0.143080</td>\n",
       "      <td>0.232691</td>\n",
       "    </tr>\n",
       "    <tr>\n",
       "      <th>7</th>\n",
       "      <td>XGBReegressor</td>\n",
       "      <td>0.864888</td>\n",
       "      <td>0.861611</td>\n",
       "      <td>0.869420</td>\n",
       "      <td>0.865497</td>\n",
       "    </tr>\n",
       "    <tr>\n",
       "      <th>8</th>\n",
       "      <td>StackingClassifier</td>\n",
       "      <td>0.872627</td>\n",
       "      <td>0.874410</td>\n",
       "      <td>0.870246</td>\n",
       "      <td>0.872323</td>\n",
       "    </tr>\n",
       "    <tr>\n",
       "      <th>9</th>\n",
       "      <td>GradientBoosting</td>\n",
       "      <td>0.890512</td>\n",
       "      <td>0.913005</td>\n",
       "      <td>0.863282</td>\n",
       "      <td>0.887448</td>\n",
       "    </tr>\n",
       "  </tbody>\n",
       "</table>\n",
       "</div>"
      ],
      "text/plain": [
       "                    TrainigSet_Models  Accuracy  Precision    Recall  F1 score\n",
       "0  K-nearest Neighbors Classification  0.857260   0.841225  0.880756  0.860537\n",
       "1                  LogisticRegression  0.741981   0.732876  0.761530  0.746928\n",
       "2        Decision Tree Classification  0.847587   0.554224  0.180312  0.272099\n",
       "3              RandomForestClassifier  0.862240   0.729522  0.203470  0.318193\n",
       "4               VotingClassifier-Hard  0.851868   0.670867  0.122456  0.207108\n",
       "5     VotingClassifier-Average Voting  0.854215   0.665331  0.155400  0.251952\n",
       "6    VotingClassifier-Weighted Voting  0.850919   0.622667  0.143080  0.232691\n",
       "7                       XGBReegressor  0.864888   0.861611  0.869420  0.865497\n",
       "8                  StackingClassifier  0.872627   0.874410  0.870246  0.872323\n",
       "9                    GradientBoosting  0.890512   0.913005  0.863282  0.887448"
      ]
     },
     "execution_count": 133,
     "metadata": {},
     "output_type": "execute_result"
    }
   ],
   "source": [
    "TrainigSet_results = pd.DataFrame.from_dict(Training_models_evalutions)\n",
    "TrainigSet_results"
   ]
  },
  {
   "cell_type": "code",
   "execution_count": 134,
   "id": "3005042b",
   "metadata": {
    "scrolled": false
   },
   "outputs": [
    {
     "data": {
      "text/html": [
       "<div>\n",
       "<style scoped>\n",
       "    .dataframe tbody tr th:only-of-type {\n",
       "        vertical-align: middle;\n",
       "    }\n",
       "\n",
       "    .dataframe tbody tr th {\n",
       "        vertical-align: top;\n",
       "    }\n",
       "\n",
       "    .dataframe thead th {\n",
       "        text-align: right;\n",
       "    }\n",
       "</style>\n",
       "<table border=\"1\" class=\"dataframe\">\n",
       "  <thead>\n",
       "    <tr style=\"text-align: right;\">\n",
       "      <th></th>\n",
       "      <th>ValidationSet_Models</th>\n",
       "      <th>Accuracy</th>\n",
       "      <th>Precision</th>\n",
       "      <th>Recall</th>\n",
       "      <th>F1 score</th>\n",
       "    </tr>\n",
       "  </thead>\n",
       "  <tbody>\n",
       "    <tr>\n",
       "      <th>0</th>\n",
       "      <td>K-nearest Neighbors Classification</td>\n",
       "      <td>0.744777</td>\n",
       "      <td>0.321897</td>\n",
       "      <td>0.553549</td>\n",
       "      <td>0.407075</td>\n",
       "    </tr>\n",
       "    <tr>\n",
       "      <th>1</th>\n",
       "      <td>LogisticRegression</td>\n",
       "      <td>0.728227</td>\n",
       "      <td>0.338210</td>\n",
       "      <td>0.760257</td>\n",
       "      <td>0.468155</td>\n",
       "    </tr>\n",
       "    <tr>\n",
       "      <th>2</th>\n",
       "      <td>Decision Tree Classification</td>\n",
       "      <td>0.849097</td>\n",
       "      <td>0.563196</td>\n",
       "      <td>0.182117</td>\n",
       "      <td>0.275234</td>\n",
       "    </tr>\n",
       "    <tr>\n",
       "      <th>3</th>\n",
       "      <td>RandomForestClassifier</td>\n",
       "      <td>0.851881</td>\n",
       "      <td>0.615432</td>\n",
       "      <td>0.156123</td>\n",
       "      <td>0.249063</td>\n",
       "    </tr>\n",
       "    <tr>\n",
       "      <th>4</th>\n",
       "      <td>VotingClassifier-Hard</td>\n",
       "      <td>0.850132</td>\n",
       "      <td>0.633011</td>\n",
       "      <td>0.112903</td>\n",
       "      <td>0.191628</td>\n",
       "    </tr>\n",
       "    <tr>\n",
       "      <th>5</th>\n",
       "      <td>VotingClassifier-Average Voting</td>\n",
       "      <td>0.850846</td>\n",
       "      <td>0.617397</td>\n",
       "      <td>0.136705</td>\n",
       "      <td>0.223846</td>\n",
       "    </tr>\n",
       "    <tr>\n",
       "      <th>6</th>\n",
       "      <td>VotingClassifier-Weighted Voting</td>\n",
       "      <td>0.850009</td>\n",
       "      <td>0.604930</td>\n",
       "      <td>0.134513</td>\n",
       "      <td>0.220087</td>\n",
       "    </tr>\n",
       "    <tr>\n",
       "      <th>7</th>\n",
       "      <td>XGBReegressor</td>\n",
       "      <td>0.803765</td>\n",
       "      <td>0.408187</td>\n",
       "      <td>0.549640</td>\n",
       "      <td>0.468468</td>\n",
       "    </tr>\n",
       "    <tr>\n",
       "      <th>8</th>\n",
       "      <td>StackingClassifier</td>\n",
       "      <td>0.809998</td>\n",
       "      <td>0.415131</td>\n",
       "      <td>0.507830</td>\n",
       "      <td>0.456825</td>\n",
       "    </tr>\n",
       "    <tr>\n",
       "      <th>9</th>\n",
       "      <td>GradientBoosting</td>\n",
       "      <td>0.809998</td>\n",
       "      <td>0.415131</td>\n",
       "      <td>0.507830</td>\n",
       "      <td>0.456825</td>\n",
       "    </tr>\n",
       "  </tbody>\n",
       "</table>\n",
       "</div>"
      ],
      "text/plain": [
       "                 ValidationSet_Models  Accuracy  Precision    Recall  F1 score\n",
       "0  K-nearest Neighbors Classification  0.744777   0.321897  0.553549  0.407075\n",
       "1                  LogisticRegression  0.728227   0.338210  0.760257  0.468155\n",
       "2        Decision Tree Classification  0.849097   0.563196  0.182117  0.275234\n",
       "3              RandomForestClassifier  0.851881   0.615432  0.156123  0.249063\n",
       "4               VotingClassifier-Hard  0.850132   0.633011  0.112903  0.191628\n",
       "5     VotingClassifier-Average Voting  0.850846   0.617397  0.136705  0.223846\n",
       "6    VotingClassifier-Weighted Voting  0.850009   0.604930  0.134513  0.220087\n",
       "7                       XGBReegressor  0.803765   0.408187  0.549640  0.468468\n",
       "8                  StackingClassifier  0.809998   0.415131  0.507830  0.456825\n",
       "9                    GradientBoosting  0.809998   0.415131  0.507830  0.456825"
      ]
     },
     "execution_count": 134,
     "metadata": {},
     "output_type": "execute_result"
    }
   ],
   "source": [
    "ValidationSet_results = pd.DataFrame.from_dict(Validation_models_evalutions)\n",
    "ValidationSet_results"
   ]
  },
  {
   "cell_type": "code",
   "execution_count": 135,
   "id": "7b8e7666",
   "metadata": {
    "scrolled": true
   },
   "outputs": [
    {
     "data": {
      "image/png": "[encoded data removed]",
      "text/plain": [
       "<Figure size 720x720 with 1 Axes>"
      ]
     },
     "metadata": {
      "needs_background": "light"
     },
     "output_type": "display_data"
    }
   ],
   "source": [
    "cmap = sns.diverging_palette(220, 10, as_cmap=True)\n",
    "\n",
    "TrainigSet_results.plot.bar(x='TrainigSet_Models',y=['Accuracy','Precision','Precision','Recall','F1 score'], cmap='Blues_r', figsize=(10,10))\n",
    "plt.title(\"Comparison of Scores of the Models\")\n",
    "plt.ylabel(\"Models\")\n",
    "plt.xlabel(\"ML Algorithms's scores in Diabetes Dataset\")\n",
    "plt.show()"
   ]
  },
  {
   "cell_type": "markdown",
   "id": "7234391d",
   "metadata": {},
   "source": [
    "# Pickle the best model for Deployment"
   ]
  },
  {
   "cell_type": "code",
   "execution_count": 137,
   "id": "d81612b6",
   "metadata": {},
   "outputs": [],
   "source": [
    "import pickle\n",
    "data = {\"model\": gbm_tuned, \"scaler\": scaler}\n",
    "with open('saved_steps.pkl', 'wb') as file:\n",
    "    pickle.dump(data, file)\n",
    "with open('saved_steps.pkl', 'rb') as file:\n",
    "    data = pickle.load(file)"
   ]
  },
  {
   "cell_type": "code",
   "execution_count": 139,
   "id": "4d4698f2",
   "metadata": {},
   "outputs": [
    {
     "data": {
      "text/plain": [
       "array([0, 0, 0, ..., 0, 0, 0])"
      ]
     },
     "execution_count": 139,
     "metadata": {},
     "output_type": "execute_result"
    }
   ],
   "source": [
    "GradientBoosting = data[\"model\"]\n",
    "scaler = data[\"scaler\"]\n",
    "y_pred = GradientBoosting.predict(X_tr_smt)\n"
   ]
  },
  {
   "cell_type": "code",
   "execution_count": null,
   "id": "2dafa89d",
   "metadata": {},
   "outputs": [],
   "source": [
    "array([0])\n",
    "pd.set_option('display.max_rows',100)\n",
    "df.community_board.value_counts().index.sort_values(ascending=True)\n",
    "X_tr_smt\n",
    "df\n",
    "pickle.format_version\n",
    "\n"
   ]
  }
 ],
 "metadata": {
  "colab": {
   "collapsed_sections": [],
   "name": "Diabetes Health Indicators Classification Model.ipynb",
   "provenance": []
  },
  "kernelspec": {
   "display_name": "Python 3",
   "language": "python",
   "name": "python3"
  },
  "language_info": {
   "codemirror_mode": {
    "name": "ipython",
    "version": 3
   },
   "file_extension": ".py",
   "mimetype": "text/x-python",
   "name": "python",
   "nbconvert_exporter": "python",
   "pygments_lexer": "ipython3",
   "version": "3.8.8"
  }
 },
 "nbformat": 4,
 "nbformat_minor": 5
}
